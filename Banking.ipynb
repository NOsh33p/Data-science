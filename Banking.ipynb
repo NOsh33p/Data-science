{
 "cells": [
  {
   "cell_type": "code",
   "execution_count": 10,
   "id": "b15046b5",
   "metadata": {},
   "outputs": [
    {
     "name": "stdout",
     "output_type": "stream",
     "text": [
      " click 1 for compoud and 2 for simple2\n",
      "whats your amount of cash:850\n",
      "whats your interest rate:3.0\n",
      "how many Days:365\n",
      "9307.5\n"
     ]
    }
   ],
   "source": [
    "user_Input = int(input(\" click 1 for compoud and 2 for simple\"))\n",
    "if user_Input == 1:\n",
    "    principal = int(input(\"whats your principal(how much cash):\"))\n",
    "    APR = float(input(\"whats your APR:\"))\n",
    "    Days = int(input(\"how many days:\"))\n",
    "    compound = principal*(1 + APR/Days)**Days\n",
    "    print(compound)\n",
    "else:\n",
    " amount = int(input(\"whats your amount of cash:\"))\n",
    " interest = float(input(\"whats your interest rate:\"))\n",
    " time = int(input(\"how many Days:\"))\n",
    " simple = amount*interest*time/100\n",
    " print(simple)"
   ]
  },
  {
   "cell_type": "code",
   "execution_count": null,
   "id": "7372035f",
   "metadata": {},
   "outputs": [],
   "source": []
  },
  {
   "cell_type": "code",
   "execution_count": null,
   "id": "0059d75c",
   "metadata": {},
   "outputs": [],
   "source": []
  }
 ],
 "metadata": {
  "kernelspec": {
   "display_name": "Python 3 (ipykernel)",
   "language": "python",
   "name": "python3"
  },
  "language_info": {
   "codemirror_mode": {
    "name": "ipython",
    "version": 3
   },
   "file_extension": ".py",
   "mimetype": "text/x-python",
   "name": "python",
   "nbconvert_exporter": "python",
   "pygments_lexer": "ipython3",
   "version": "3.9.12"
  }
 },
 "nbformat": 4,
 "nbformat_minor": 5
}
