{
 "cells": [
  {
   "cell_type": "code",
   "execution_count": 4,
   "id": "83995955",
   "metadata": {},
   "outputs": [
    {
     "name": "stdout",
     "output_type": "stream",
     "text": [
      "After asking how many people go to the cafe a day, 9 students said they go(PRESS ENTER TO SEE CONCLUSION)\n",
      "[ENTER]\n",
      "the percent of students that go to the cafe is 50.0%\n"
     ]
    }
   ],
   "source": [
    "#matrix of my data\n",
    "student_Num = [[1,2,3,4,5],\n",
    "              [6,7,8,9,10],\n",
    "              [11,12,13,14],\n",
    "              [15,16,17,18]]\n",
    "print(\"After asking how many people go to the cafe in class on 9/12/2022, 9 students said they go(PRESS ENTER TO SEE CONCLUSION)\")\n",
    "input(\"[ENTER]\")\n",
    "conclusion = student_Num[1][3]/student_Num[3][3]*100\n",
    "print(f\"the percent of students that go to the cafe is {conclusion}%\")"
   ]
  },
  {
   "cell_type": "code",
   "execution_count": null,
   "id": "d255f2d8",
   "metadata": {},
   "outputs": [],
   "source": []
  }
 ],
 "metadata": {
  "kernelspec": {
   "display_name": "Python 3 (ipykernel)",
   "language": "python",
   "name": "python3"
  },
  "language_info": {
   "codemirror_mode": {
    "name": "ipython",
    "version": 3
   },
   "file_extension": ".py",
   "mimetype": "text/x-python",
   "name": "python",
   "nbconvert_exporter": "python",
   "pygments_lexer": "ipython3",
   "version": "3.9.12"
  }
 },
 "nbformat": 4,
 "nbformat_minor": 5
}
