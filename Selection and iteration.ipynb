{
 "cells": [
  {
   "cell_type": "code",
   "execution_count": 34,
   "id": "b106b2c3",
   "metadata": {},
   "outputs": [
    {
     "name": "stdout",
     "output_type": "stream",
     "text": [
      "False\n"
     ]
    }
   ],
   "source": [
    "\"\"\"\n",
    "list1 = [1,2,3,4,5,6]\n",
    "list2 = [7,8,9]\n",
    "bol = True\n",
    "for i in list1:\n",
    " if i in list2:\n",
    "   bol = True\n",
    " else:\n",
    "   bol = False\n",
    "print(bol)\n",
    "\n",
    "user_Input = int(input(\"which numbers multiples do you want?:\"))\n",
    "length = int(input(\"how many multiples do you want?\"))\n",
    "for i in range(length):\n",
    "    num.append(user_Input*(i + 1))\n",
    "print(num)\n",
    "num = []\n",
    "\n",
    "\n",
    "user_Input = input(\"please leave a message?\")\n",
    "user_Input = user_Input.upper()\n",
    "morse = {'A': '.-', 'B': '-...', 'C': '-.-.', 'D': '-..', 'E': '.', 'F': '..-.',\n",
    "  'G': '--.', 'H': '....', 'I': '..', 'J': '.---', 'K': '-.-', 'L': '.-..',\n",
    "  'M': '--', 'N': '-.', 'O': '---', 'P': '.--.', 'Q': '--.-', 'R': '.-.',\n",
    "  'S': '...', 'T': '-', 'U': '..-', 'V': '...-', 'W': '.--', 'X': '-..-',\n",
    "  'Y': '-.--', 'Z': '--..', ' ': ' ', '0': '-----',\n",
    "  '1': '.----', '2': '..---', '3': '...--', '4': '....-', '5': '.....',\n",
    "  '6': '-....', '7': '--...', '8': '---..', '9': '----.',\n",
    "  '&': '.-...', \"'\": '.----.', '@': '.--.-.', ')': '-.--.-', '(': '-.--.',\n",
    "  ':': '---...', ',': '--..--', '=': '-...-', '!': '-.-.--', '.': '.-.-.-',\n",
    "  '-': '-....-', '+': '.-.-.', '\"': '.-..-.', '?': '..--..', '/': '-..-.'}\n",
    "for i in morse:\n",
    "    for s in morse:\n",
    "        if user_Input == s:\n",
    "\"\"\"\n",
    "boo = True\n",
    "front_Stage = [[1,2,3,2,1,1],\n",
    "               [2,4,4,3,2,2],\n",
    "               [5,5,5,5,4,4],\n",
    "               [6,6,7,6,5,5]]\n",
    "for row in range(len(front_Stage[0])):\n",
    "    for column in range(len(front_Stage)):\n",
    "        if column < len(front_Stage) - 1 and front_Stage[column][row] >= front_Stage[column + 1][row]:\n",
    "            boo = False\n",
    "print(boo)            \n",
    "    \n",
    "            \n",
    "\n",
    "   "
   ]
  },
  {
   "cell_type": "code",
   "execution_count": null,
   "id": "c1819da3",
   "metadata": {},
   "outputs": [],
   "source": []
  },
  {
   "cell_type": "code",
   "execution_count": null,
   "id": "7937963b",
   "metadata": {},
   "outputs": [],
   "source": []
  },
  {
   "cell_type": "code",
   "execution_count": null,
   "id": "c28b4db8",
   "metadata": {},
   "outputs": [],
   "source": []
  }
 ],
 "metadata": {
  "kernelspec": {
   "display_name": "Python 3 (ipykernel)",
   "language": "python",
   "name": "python3"
  },
  "language_info": {
   "codemirror_mode": {
    "name": "ipython",
    "version": 3
   },
   "file_extension": ".py",
   "mimetype": "text/x-python",
   "name": "python",
   "nbconvert_exporter": "python",
   "pygments_lexer": "ipython3",
   "version": "3.9.12"
  }
 },
 "nbformat": 4,
 "nbformat_minor": 5
}
