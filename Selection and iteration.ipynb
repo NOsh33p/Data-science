{
 "cells": [
  {
   "cell_type": "code",
   "execution_count": 29,
   "id": "b106b2c3",
   "metadata": {},
   "outputs": [
    {
     "name": "stdout",
     "output_type": "stream",
     "text": [
      "which numbers multiples(1,12) do you want?:3\n",
      "how many multiples(1,12) do you want?5\n",
      "[3, 6, 9, 12, 15]\n"
     ]
    }
   ],
   "source": [
    "\"\"\"\n",
    "list1 = [1,2,3,4,5,6]\n",
    "list2 = [7,8,9]\n",
    "bol = True\n",
    "for i in list1:\n",
    " if i in list2:\n",
    "   bol = True\n",
    " else:\n",
    "   bol = False\n",
    "print(bol)\n",
    "\"\"\"\n",
    "num = []\n",
    "user_Input = int(input(\"which numbers multiples(1,12) do you want?:\"))\n",
    "length = int(input(\"how many multiples(1,12) do you want?\"))\n",
    "for i in range(length):\n",
    "    num.append(user_Input*(i + 1))\n",
    "print(num)\n",
    "   "
   ]
  },
  {
   "cell_type": "code",
   "execution_count": null,
   "id": "c1819da3",
   "metadata": {},
   "outputs": [],
   "source": []
  },
  {
   "cell_type": "code",
   "execution_count": null,
   "id": "7937963b",
   "metadata": {},
   "outputs": [],
   "source": []
  },
  {
   "cell_type": "code",
   "execution_count": null,
   "id": "c28b4db8",
   "metadata": {},
   "outputs": [],
   "source": []
  }
 ],
 "metadata": {
  "kernelspec": {
   "display_name": "Python 3 (ipykernel)",
   "language": "python",
   "name": "python3"
  },
  "language_info": {
   "codemirror_mode": {
    "name": "ipython",
    "version": 3
   },
   "file_extension": ".py",
   "mimetype": "text/x-python",
   "name": "python",
   "nbconvert_exporter": "python",
   "pygments_lexer": "ipython3",
   "version": "3.9.12"
  }
 },
 "nbformat": 4,
 "nbformat_minor": 5
}
