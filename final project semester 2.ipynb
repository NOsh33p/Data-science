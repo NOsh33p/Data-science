{
 "cells": [
  {
   "cell_type": "code",
   "execution_count": 5,
   "id": "30f89700",
   "metadata": {},
   "outputs": [
    {
     "name": "stdout",
     "output_type": "stream",
     "text": [
      "                                 Movie  Minute  Kill_ID Weapon  Who Where\n",
      "0                                  NaN     NaN      NaN    NaN  NaN   NaN\n",
      "1                            John Wick     0.0      NaN    NaN  NaN   NaN\n",
      "2                            John Wick     1.0      NaN    NaN  NaN   NaN\n",
      "3                            John Wick     2.0      NaN    NaN  NaN   NaN\n",
      "4                            John Wick     3.0      NaN    NaN  NaN   NaN\n",
      "..                                 ...     ...      ...    ...  ...   ...\n",
      "542  John Wick: Chapter 3 – Parabellum   116.0      NaN    NaN  NaN   NaN\n",
      "543  John Wick: Chapter 3 – Parabellum   117.0      NaN    NaN  NaN   NaN\n",
      "544  John Wick: Chapter 3 – Parabellum   118.0      NaN    NaN  NaN   NaN\n",
      "545  John Wick: Chapter 3 – Parabellum   119.0      NaN    NaN  NaN   NaN\n",
      "546  John Wick: Chapter 3 – Parabellum   120.0      NaN    NaN  NaN   NaN\n",
      "\n",
      "[547 rows x 6 columns]\n",
      "<class 'pandas.core.frame.DataFrame'>\n",
      "RangeIndex: 547 entries, 0 to 546\n",
      "Data columns (total 6 columns):\n",
      " #   Column   Non-Null Count  Dtype  \n",
      "---  ------   --------------  -----  \n",
      " 0   Movie    542 non-null    object \n",
      " 1   Minute   542 non-null    float64\n",
      " 2   Kill_ID  287 non-null    float64\n",
      " 3   Weapon   287 non-null    object \n",
      " 4   Who      287 non-null    object \n",
      " 5   Where    287 non-null    object \n",
      "dtypes: float64(2), object(4)\n",
      "memory usage: 25.8+ KB\n"
     ]
    }
   ],
   "source": [
    "import pandas as pd\n",
    "\n",
    "df = pd.read_csv('John Wick.csv')\n",
    "print(df)\n"
   ]
  },
  {
   "cell_type": "code",
   "execution_count": null,
   "id": "31d2ef65",
   "metadata": {},
   "outputs": [],
   "source": []
  },
  {
   "cell_type": "code",
   "execution_count": null,
   "id": "7aebc8a7",
   "metadata": {},
   "outputs": [],
   "source": []
  }
 ],
 "metadata": {
  "kernelspec": {
   "display_name": "Python 3 (ipykernel)",
   "language": "python",
   "name": "python3"
  },
  "language_info": {
   "codemirror_mode": {
    "name": "ipython",
    "version": 3
   },
   "file_extension": ".py",
   "mimetype": "text/x-python",
   "name": "python",
   "nbconvert_exporter": "python",
   "pygments_lexer": "ipython3",
   "version": "3.9.13"
  }
 },
 "nbformat": 4,
 "nbformat_minor": 5
}
