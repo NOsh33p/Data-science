{
 "cells": [
  {
   "cell_type": "code",
   "execution_count": 41,
   "id": "e5dda8b1",
   "metadata": {},
   "outputs": [
    {
     "name": "stdout",
     "output_type": "stream",
     "text": [
      "                        name mfr type  calories  protein  fat  sodium  fiber  \\\n",
      "0                  100% Bran   N    C        70        4    1     130   10.0   \n",
      "1          100% Natural Bran   Q    C       120        3    5      15    2.0   \n",
      "2                   All-Bran   K    C        70        4    1     260    9.0   \n",
      "3  All-Bran with Extra Fiber   K    C        50        4    0     140   14.0   \n",
      "4             Almond Delight   R    C       110        2    2     200    1.0   \n",
      "5    Apple Cinnamon Cheerios   G    C       110        2    2     180    1.5   \n",
      "6                Apple Jacks   K    C       110        2    0     125    1.0   \n",
      "7                    Basic 4   G    C       130        3    2     210    2.0   \n",
      "8                  Bran Chex   R    C        90        2    1     200    4.0   \n",
      "9                Bran Flakes   P    C        90        3    0     210    5.0   \n",
      "\n",
      "   carbo  sugars  potass  vitamins  shelf  weight  cups     rating  \n",
      "0    5.0       6     280        25      3    1.00  0.33  68.402973  \n",
      "1    8.0       8     135         0      3    1.00  1.00  33.983679  \n",
      "2    7.0       5     320        25      3    1.00  0.33  59.425505  \n",
      "3    8.0       0     330        25      3    1.00  0.50  93.704912  \n",
      "4   14.0       8      -1        25      3    1.00  0.75  34.384843  \n",
      "5   10.5      10      70        25      1    1.00  0.75  29.509541  \n",
      "6   11.0      14      30        25      2    1.00  1.00  33.174094  \n",
      "7   18.0       8     100        25      3    1.33  0.75  37.038562  \n",
      "8   15.0       6     125        25      1    1.00  0.67  49.120253  \n",
      "9   13.0       5     190        25      3    1.00  0.67  53.313813  \n",
      "\n",
      "----------- Calculate Mean -----------\n",
      "\n",
      "6.922077922077922\n",
      "\n",
      "----------- Calculate Median -----------\n",
      "\n",
      "7.0\n",
      "\n",
      "----------- Calculate Mode -----------\n",
      "\n",
      "0    3\n",
      "Name: sugars, dtype: int64\n",
      "15\n",
      "-1\n",
      "15\n"
     ]
    }
   ],
   "source": [
    "import pandas as pd \n",
    "import numpy as np\n",
    "\n",
    "df = pd.read_csv('cereal.csv')\n",
    "print(df.head(10))\n",
    "df.isnull()\n",
    "\n",
    "update_df = df.drop([df.index[0],df.index[1],df.index[2],df.index[3],df.index[4]])\n",
    "update_df\n",
    "df2=df.drop(labels=[\"name\",\"mfr\",\"type\",\"calories\",\"protein\",\"fat\",\"sodium\",\"fiber\",\"carbo\",\"potass\",\"vitamins\",\"shelf\",\"weight\",\"cups\"], axis = 1)\n",
    "df2\n",
    "print(\"\\n----------- Calculate Mean -----------\\n\")\n",
    "print(df['sugars'].mean())\n",
    "print(\"\\n----------- Calculate Median -----------\\n\")\n",
    "print(df['sugars'].median())\n",
    "print(\"\\n----------- Calculate Mode -----------\\n\")\n",
    "print(df['sugars'].mode())\n",
    "\n",
    "\n",
    "df = df[df.sugars != 1]\n",
    "print(df['sugars'].min())\n",
    "print(df['sugars'].max())\n",
    "\n"
   ]
  },
  {
   "cell_type": "code",
   "execution_count": null,
   "id": "0d938c59",
   "metadata": {},
   "outputs": [],
   "source": []
  },
  {
   "cell_type": "code",
   "execution_count": null,
   "id": "8f7db15b",
   "metadata": {},
   "outputs": [],
   "source": []
  }
 ],
 "metadata": {
  "kernelspec": {
   "display_name": "Python 3 (ipykernel)",
   "language": "python",
   "name": "python3"
  },
  "language_info": {
   "codemirror_mode": {
    "name": "ipython",
    "version": 3
   },
   "file_extension": ".py",
   "mimetype": "text/x-python",
   "name": "python",
   "nbconvert_exporter": "python",
   "pygments_lexer": "ipython3",
   "version": "3.9.12"
  }
 },
 "nbformat": 4,
 "nbformat_minor": 5
}
