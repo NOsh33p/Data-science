{
 "cells": [
  {
   "cell_type": "code",
   "execution_count": null,
   "id": "608b5a08",
   "metadata": {},
   "outputs": [],
   "source": []
  },
  {
   "cell_type": "markdown",
   "id": "5b5d39e0",
   "metadata": {},
   "source": [
    "# import pandas as pd \n",
    "import numpy as np\n",
    "import seaborn as sns\n",
    "import matplotlib.pyplot as plt\n",
    "from scipy.stats import pearsonr\n",
    "df = pd.read_csv('cereal.csv')\n",
    "`\n",
    "\n",
    "update_df = df.drop([df.index[0],df.index[1],df.index[2],df.index[3],df.index[4]])\n",
    "update_df\n",
    "df2=df.drop(labels=[\"name\",\"mfr\",\"type\",\"calories\",\"protein\",\"fat\",\"sodium\",\"fiber\",\"carbo\",\"potass\",\"vitamins\",\"shelf\",\"weight\",\"cups\"], axis = 1)\n",
    "df2\n",
    "print(\"\\n----------- Calculate Mean -----------\\n\")\n",
    "print(df['sugars'].mean())\n",
    "print(\"\\n----------- Calculate Median -----------\\n\")\n",
    "print(df['sugars'].median())\n",
    "print(\"\\n----------- Calculate Mode -----------\\n\")\n",
    "print(df['sugars'].mode())\n",
    "\n",
    "\n",
    "\n",
    "print(df['sugars'].min())\n",
    "print(df['sugars'].max())\n",
    "\n",
    "sns.regplot(x='sugars',y='rating',data = df)\n",
    "plt.show()\n",
    "\n",
    "list1 =df['rating']\n",
    "list2 = df['sugars']\n",
    "corr, _ = pearsonr(list1, list2)\n",
    "print('Pearsons correlation: %.3f' % corr)\n",
    "\n"
   ]
  },
  {
   "cell_type": "code",
   "execution_count": null,
   "id": "0d938c59",
   "metadata": {},
   "outputs": [],
   "source": []
  },
  {
   "cell_type": "code",
   "execution_count": null,
   "id": "8f7db15b",
   "metadata": {},
   "outputs": [],
   "source": []
  }
 ],
 "metadata": {
  "kernelspec": {
   "display_name": "Python 3 (ipykernel)",
   "language": "python",
   "name": "python3"
  },
  "language_info": {
   "codemirror_mode": {
    "name": "ipython",
    "version": 3
   },
   "file_extension": ".py",
   "mimetype": "text/x-python",
   "name": "python",
   "nbconvert_exporter": "python",
   "pygments_lexer": "ipython3",
   "version": "3.9.12"
  }
 },
 "nbformat": 4,
 "nbformat_minor": 5
}
