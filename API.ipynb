{
 "cells": [
  {
   "cell_type": "code",
   "execution_count": 12,
   "id": "7701536a",
   "metadata": {},
   "outputs": [
    {
     "ename": "IndentationError",
     "evalue": "unindent does not match any outer indentation level (<tokenize>, line 19)",
     "output_type": "error",
     "traceback": [
      "\u001b[1;36m  File \u001b[1;32m<tokenize>:19\u001b[1;36m\u001b[0m\n\u001b[1;33m    return foods\u001b[0m\n\u001b[1;37m    ^\u001b[0m\n\u001b[1;31mIndentationError\u001b[0m\u001b[1;31m:\u001b[0m unindent does not match any outer indentation level\n"
     ]
    }
   ],
   "source": [
    "import requests\n",
    "\n",
    "x = requests.get('https://api.nal.usda.gov/fdc/v1/foods/list?&pageSize=2&api_key=UIA3c9rxWcB81uT36q0ryBHsuSdAB1pgTb5W6DOl', json={\n",
    "  \"Id\": 26301110,\n",
    "  \"Customer\": \"food\",\n",
    "    })\n",
    "\n",
    "\n",
    " \n",
    "\n",
    "\n",
    "print(f\"Response: {pagenum.json()}\")\n",
    "\n"
   ]
  },
  {
   "cell_type": "code",
   "execution_count": 10,
   "id": "db0bb6c2",
   "metadata": {},
   "outputs": [
    {
     "name": "stdout",
     "output_type": "stream",
     "text": [
      "[{\"fdcId\":2353623,\"description\":\"A Low-Starch and High-Fiber Diet Intervention Impacts the Microbial Community of Raw Bovine Milk\",\"dataType\":\"Experimental\",\"publicationDate\":\"2022-10-28\",\"foodNutrients\":[]},{\"fdcId\":2341752,\"description\":\"Abalone\",\"dataType\":\"Survey (FNDDS)\",\"publicationDate\":\"2022-10-28\",\"foodCode\":\"26301110\",\"foodNutrients\":[{\"number\":\"203\",\"name\":\"Protein\",\"amount\":21.2,\"unitName\":\"G\"},{\"number\":\"204\",\"name\":\"Total lipid (fat)\",\"amount\":6.12,\"unitName\":\"G\"},{\"number\":\"205\",\"name\":\"Carbohydrate, by difference\",\"amount\":7.46,\"unitName\":\"G\"},{\"number\":\"208\",\"name\":\"Energy\",\"amount\":177,\"unitName\":\"KCAL\"},{\"number\":\"221\",\"name\":\"Alcohol, ethyl\",\"amount\":0E-8,\"unitName\":\"G\"},{\"number\":\"255\",\"name\":\"Water\",\"amount\":62.7,\"unitName\":\"G\"},{\"number\":\"262\",\"name\":\"Caffeine\",\"amount\":0E-8,\"unitName\":\"MG\"},{\"number\":\"263\",\"name\":\"Theobromine\",\"amount\":0E-8,\"unitName\":\"MG\"},{\"number\":\"269\",\"name\":\"Sugars, total including NLEA\",\"amount\":0E-8,\"unitName\":\"G\"},{\"number\":\"291\",\"name\":\"Fiber, total dietary\",\"amount\":0E-8,\"unitName\":\"G\"},{\"number\":\"301\",\"name\":\"Calcium, Ca\",\"amount\":39.0,\"unitName\":\"MG\"},{\"number\":\"303\",\"name\":\"Iron, Fe\",\"amount\":3.97,\"unitName\":\"MG\"},{\"number\":\"304\",\"name\":\"Magnesium, Mg\",\"amount\":60.0,\"unitName\":\"MG\"},{\"number\":\"305\",\"name\":\"Phosphorus, P\",\"amount\":236,\"unitName\":\"MG\"},{\"number\":\"306\",\"name\":\"Potassium, K\",\"amount\":310,\"unitName\":\"MG\"},{\"number\":\"307\",\"name\":\"Sodium, Na\",\"amount\":574,\"unitName\":\"MG\"},{\"number\":\"309\",\"name\":\"Zinc, Zn\",\"amount\":1.02,\"unitName\":\"MG\"},{\"number\":\"312\",\"name\":\"Copper, Cu\",\"amount\":0.243,\"unitName\":\"MG\"},{\"number\":\"317\",\"name\":\"Selenium, Se\",\"amount\":55.6,\"unitName\":\"UG\"},{\"number\":\"319\",\"name\":\"Retinol\",\"amount\":2.00,\"unitName\":\"UG\"},{\"number\":\"320\",\"name\":\"Vitamin A, RAE\",\"amount\":2.00,\"unitName\":\"UG\"},{\"number\":\"321\",\"name\":\"Carotene, beta\",\"amount\":0E-8,\"unitName\":\"UG\"},{\"number\":\"322\",\"name\":\"Carotene, alpha\",\"amount\":0E-8,\"unitName\":\"UG\"},{\"number\":\"323\",\"name\":\"Vitamin E (alpha-tocopherol)\",\"amount\":5.80,\"unitName\":\"MG\"},{\"number\":\"328\",\"name\":\"Vitamin D (D2 + D3)\",\"amount\":0E-8,\"unitName\":\"UG\"},{\"number\":\"334\",\"name\":\"Cryptoxanthin, beta\",\"amount\":0E-8,\"unitName\":\"UG\"},{\"number\":\"337\",\"name\":\"Lycopene\",\"amount\":0E-8,\"unitName\":\"UG\"},{\"number\":\"338\",\"name\":\"Lutein + zeaxanthin\",\"amount\":0E-8,\"unitName\":\"UG\"},{\"number\":\"401\",\"name\":\"Vitamin C, total ascorbic acid\",\"amount\":2.00,\"unitName\":\"MG\"},{\"number\":\"404\",\"name\":\"Thiamin\",\"amount\":0.201,\"unitName\":\"MG\"},{\"number\":\"405\",\"name\":\"Riboflavin\",\"amount\":0.118,\"unitName\":\"MG\"},{\"number\":\"406\",\"name\":\"Niacin\",\"amount\":1.77,\"unitName\":\"MG\"},{\"number\":\"415\",\"name\":\"Vitamin B-6\",\"amount\":0.168,\"unitName\":\"MG\"},{\"number\":\"417\",\"name\":\"Folate, total\",\"amount\":5.00,\"unitName\":\"UG\"},{\"number\":\"418\",\"name\":\"Vitamin B-12\",\"amount\":0.770,\"unitName\":\"UG\"},{\"number\":\"421\",\"name\":\"Choline, total\",\"amount\":80.7,\"unitName\":\"MG\"},{\"number\":\"430\",\"name\":\"Vitamin K (phylloquinone)\",\"amount\":34.2,\"unitName\":\"UG\"},{\"number\":\"431\",\"name\":\"Folic acid\",\"amount\":0E-8,\"unitName\":\"UG\"},{\"number\":\"432\",\"name\":\"Folate, food\",\"amount\":5.00,\"unitName\":\"UG\"},{\"number\":\"435\",\"name\":\"Folate, DFE\",\"amount\":5.00,\"unitName\":\"UG\"},{\"number\":\"573\",\"name\":\"Vitamin E, added\",\"amount\":0E-8,\"unitName\":\"MG\"},{\"number\":\"578\",\"name\":\"Vitamin B-12, added\",\"amount\":0E-8,\"unitName\":\"UG\"},{\"number\":\"601\",\"name\":\"Cholesterol\",\"amount\":106,\"unitName\":\"MG\"},{\"number\":\"606\",\"name\":\"Fatty acids, total saturated\",\"amount\":0.892,\"unitName\":\"G\"},{\"number\":\"607\",\"name\":\"SFA 4:0\",\"amount\":0E-8,\"unitName\":\"G\"},{\"number\":\"608\",\"name\":\"SFA 6:0\",\"amount\":0E-8,\"unitName\":\"G\"},{\"number\":\"609\",\"name\":\"SFA 8:0\",\"amount\":0E-8,\"unitName\":\"G\"},{\"number\":\"610\",\"name\":\"SFA 10:0\",\"amount\":0E-8,\"unitName\":\"G\"},{\"number\":\"611\",\"name\":\"SFA 12:0\",\"amount\":0E-8,\"unitName\":\"G\"},{\"number\":\"612\",\"name\":\"SFA 14:0\",\"amount\":0.0310,\"unitName\":\"G\"},{\"number\":\"613\",\"name\":\"SFA 16:0\",\"amount\":0.639,\"unitName\":\"G\"},{\"number\":\"614\",\"name\":\"SFA 18:0\",\"amount\":0.177,\"unitName\":\"G\"},{\"number\":\"617\",\"name\":\"MUFA 18:1\",\"amount\":2.14,\"unitName\":\"G\"},{\"number\":\"618\",\"name\":\"PUFA 18:2\",\"amount\":1.85,\"unitName\":\"G\"},{\"number\":\"619\",\"name\":\"PUFA 18:3\",\"amount\":0.243,\"unitName\":\"G\"},{\"number\":\"620\",\"name\":\"PUFA 20:4\",\"amount\":0E-8,\"unitName\":\"G\"},{\"number\":\"621\",\"name\":\"PUFA 22:6 n-3 (DHA)\",\"amount\":0E-8,\"unitName\":\"G\"},{\"number\":\"626\",\"name\":\"MUFA 16:1\",\"amount\":0.0430,\"unitName\":\"G\"},{\"number\":\"627\",\"name\":\"PUFA 18:4\",\"amount\":0.00700,\"unitName\":\"G\"},{\"number\":\"628\",\"name\":\"MUFA 20:1\",\"amount\":0.0360,\"unitName\":\"G\"},{\"number\":\"629\",\"name\":\"PUFA 20:5 n-3 (EPA)\",\"amount\":0.0610,\"unitName\":\"G\"},{\"number\":\"630\",\"name\":\"MUFA 22:1\",\"amount\":0E-8,\"unitName\":\"G\"},{\"number\":\"631\",\"name\":\"PUFA 22:5 n-3 (DPA)\",\"amount\":0.0510,\"unitName\":\"G\"},{\"number\":\"645\",\"name\":\"Fatty acids, total monounsaturated\",\"amount\":2.22,\"unitName\":\"G\"},{\"number\":\"646\",\"name\":\"Fatty acids, total polyunsaturated\",\"amount\":2.21,\"unitName\":\"G\"}]}]\n"
     ]
    }
   ],
   "source": [
    "x = requests.get('https://api.nal.usda.gov/fdc/v1/foods/list?&pageSize=2&api_key=UIA3c9rxWcB81uT36q0ryBHsuSdAB1pgTb5W6DOl')\n",
    "print(x.text)"
   ]
  },
  {
   "cell_type": "code",
   "execution_count": 77,
   "id": "edfb9934",
   "metadata": {},
   "outputs": [
    {
     "ename": "KeyError",
     "evalue": "'Iron'",
     "output_type": "error",
     "traceback": [
      "\u001b[1;31m---------------------------------------------------------------------------\u001b[0m",
      "\u001b[1;31mKeyError\u001b[0m                                  Traceback (most recent call last)",
      "Input \u001b[1;32mIn [77]\u001b[0m, in \u001b[0;36m<cell line: 33>\u001b[1;34m()\u001b[0m\n\u001b[0;32m     30\u001b[0m df \u001b[38;5;241m=\u001b[39m pd\u001b[38;5;241m.\u001b[39mDataFrame(data)\n\u001b[0;32m     31\u001b[0m df\n\u001b[1;32m---> 33\u001b[0m top \u001b[38;5;241m=\u001b[39m \u001b[43mdf\u001b[49m\u001b[38;5;241;43m.\u001b[39;49m\u001b[43msort_values\u001b[49m\u001b[43m(\u001b[49m\u001b[43mby\u001b[49m\u001b[38;5;241;43m=\u001b[39;49m\u001b[38;5;124;43m'\u001b[39;49m\u001b[38;5;124;43mIron\u001b[39;49m\u001b[38;5;124;43m'\u001b[39;49m\u001b[43m,\u001b[49m\u001b[43m \u001b[49m\u001b[43mascending\u001b[49m\u001b[43m \u001b[49m\u001b[38;5;241;43m=\u001b[39;49m\u001b[43m \u001b[49m\u001b[38;5;28;43;01mFalse\u001b[39;49;00m\u001b[43m)\u001b[49m\n\u001b[0;32m     34\u001b[0m top10 \u001b[38;5;241m=\u001b[39m top[:\u001b[38;5;241m10\u001b[39m]\n\u001b[0;32m     35\u001b[0m top10\u001b[38;5;241m.\u001b[39mhead\n",
      "File \u001b[1;32m~\\Anaconda3\\lib\\site-packages\\pandas\\util\\_decorators.py:311\u001b[0m, in \u001b[0;36mdeprecate_nonkeyword_arguments.<locals>.decorate.<locals>.wrapper\u001b[1;34m(*args, **kwargs)\u001b[0m\n\u001b[0;32m    305\u001b[0m \u001b[38;5;28;01mif\u001b[39;00m \u001b[38;5;28mlen\u001b[39m(args) \u001b[38;5;241m>\u001b[39m num_allow_args:\n\u001b[0;32m    306\u001b[0m     warnings\u001b[38;5;241m.\u001b[39mwarn(\n\u001b[0;32m    307\u001b[0m         msg\u001b[38;5;241m.\u001b[39mformat(arguments\u001b[38;5;241m=\u001b[39marguments),\n\u001b[0;32m    308\u001b[0m         \u001b[38;5;167;01mFutureWarning\u001b[39;00m,\n\u001b[0;32m    309\u001b[0m         stacklevel\u001b[38;5;241m=\u001b[39mstacklevel,\n\u001b[0;32m    310\u001b[0m     )\n\u001b[1;32m--> 311\u001b[0m \u001b[38;5;28;01mreturn\u001b[39;00m func(\u001b[38;5;241m*\u001b[39margs, \u001b[38;5;241m*\u001b[39m\u001b[38;5;241m*\u001b[39mkwargs)\n",
      "File \u001b[1;32m~\\Anaconda3\\lib\\site-packages\\pandas\\core\\frame.py:6313\u001b[0m, in \u001b[0;36mDataFrame.sort_values\u001b[1;34m(self, by, axis, ascending, inplace, kind, na_position, ignore_index, key)\u001b[0m\n\u001b[0;32m   6309\u001b[0m \u001b[38;5;28;01melif\u001b[39;00m \u001b[38;5;28mlen\u001b[39m(by):\n\u001b[0;32m   6310\u001b[0m     \u001b[38;5;66;03m# len(by) == 1\u001b[39;00m\n\u001b[0;32m   6312\u001b[0m     by \u001b[38;5;241m=\u001b[39m by[\u001b[38;5;241m0\u001b[39m]\n\u001b[1;32m-> 6313\u001b[0m     k \u001b[38;5;241m=\u001b[39m \u001b[38;5;28;43mself\u001b[39;49m\u001b[38;5;241;43m.\u001b[39;49m\u001b[43m_get_label_or_level_values\u001b[49m\u001b[43m(\u001b[49m\u001b[43mby\u001b[49m\u001b[43m,\u001b[49m\u001b[43m \u001b[49m\u001b[43maxis\u001b[49m\u001b[38;5;241;43m=\u001b[39;49m\u001b[43maxis\u001b[49m\u001b[43m)\u001b[49m\n\u001b[0;32m   6315\u001b[0m     \u001b[38;5;66;03m# need to rewrap column in Series to apply key function\u001b[39;00m\n\u001b[0;32m   6316\u001b[0m     \u001b[38;5;28;01mif\u001b[39;00m key \u001b[38;5;129;01mis\u001b[39;00m \u001b[38;5;129;01mnot\u001b[39;00m \u001b[38;5;28;01mNone\u001b[39;00m:\n\u001b[0;32m   6317\u001b[0m         \u001b[38;5;66;03m# error: Incompatible types in assignment (expression has type\u001b[39;00m\n\u001b[0;32m   6318\u001b[0m         \u001b[38;5;66;03m# \"Series\", variable has type \"ndarray\")\u001b[39;00m\n",
      "File \u001b[1;32m~\\Anaconda3\\lib\\site-packages\\pandas\\core\\generic.py:1840\u001b[0m, in \u001b[0;36mNDFrame._get_label_or_level_values\u001b[1;34m(self, key, axis)\u001b[0m\n\u001b[0;32m   1838\u001b[0m     values \u001b[38;5;241m=\u001b[39m \u001b[38;5;28mself\u001b[39m\u001b[38;5;241m.\u001b[39maxes[axis]\u001b[38;5;241m.\u001b[39mget_level_values(key)\u001b[38;5;241m.\u001b[39m_values\n\u001b[0;32m   1839\u001b[0m \u001b[38;5;28;01melse\u001b[39;00m:\n\u001b[1;32m-> 1840\u001b[0m     \u001b[38;5;28;01mraise\u001b[39;00m \u001b[38;5;167;01mKeyError\u001b[39;00m(key)\n\u001b[0;32m   1842\u001b[0m \u001b[38;5;66;03m# Check for duplicates\u001b[39;00m\n\u001b[0;32m   1843\u001b[0m \u001b[38;5;28;01mif\u001b[39;00m values\u001b[38;5;241m.\u001b[39mndim \u001b[38;5;241m>\u001b[39m \u001b[38;5;241m1\u001b[39m:\n",
      "\u001b[1;31mKeyError\u001b[0m: 'Iron'"
     ]
    }
   ],
   "source": [
    "import requests\n",
    "import pandas as pd\n",
    "def foodRequest():\n",
    "    pagenum = 1\n",
    "    foods = []\n",
    "    while True:\n",
    "        url =(f'https://api.nal.usda.gov/fdc/v1/foods/list?&pageSize={pagenum}2&api_key=UIA3c9rxWcB81uT36q0ryBHsuSdAB1pgTb5W6DOl')\n",
    "        req = requests.get(url)\n",
    "        if not req.ok:\n",
    "            break\n",
    "        foods = foods + req.json()\n",
    "        pagenum = pagenum + 1\n",
    "     \n",
    "    return foods\n",
    "\n",
    "listofFoods = foodRequest()\n",
    "\n",
    "\n",
    "def labelIron():\n",
    "    iron = []\n",
    "    for food in listofFoods:\n",
    "        name = food['description']\n",
    "        for nutrient in food['foodNutrients']:\n",
    "            if nutrient['name'] == 'Iron,Fe':\n",
    "                amount = nutrient['amount']\n",
    "                temp = {'Name': name, 'Iron': amount}\n",
    "                iron.append(temp)\n",
    "    return iron\n",
    "data = labelIron()\n",
    "df = pd.DataFrame(data)\n",
    "df\n",
    "\n",
    "top = df.sort_values(by='Iron', ascending = False)\n",
    "top10 = top[:10]\n",
    "top10.head"
   ]
  },
  {
   "cell_type": "code",
   "execution_count": 70,
   "id": "969d0c35",
   "metadata": {},
   "outputs": [],
   "source": [
    "\n"
   ]
  },
  {
   "cell_type": "code",
   "execution_count": 67,
   "id": "26c165ba",
   "metadata": {},
   "outputs": [],
   "source": [
    "\n"
   ]
  },
  {
   "cell_type": "code",
   "execution_count": null,
   "id": "07249ef7",
   "metadata": {},
   "outputs": [],
   "source": []
  }
 ],
 "metadata": {
  "kernelspec": {
   "display_name": "Python 3 (ipykernel)",
   "language": "python",
   "name": "python3"
  },
  "language_info": {
   "codemirror_mode": {
    "name": "ipython",
    "version": 3
   },
   "file_extension": ".py",
   "mimetype": "text/x-python",
   "name": "python",
   "nbconvert_exporter": "python",
   "pygments_lexer": "ipython3",
   "version": "3.9.12"
  }
 },
 "nbformat": 4,
 "nbformat_minor": 5
}
