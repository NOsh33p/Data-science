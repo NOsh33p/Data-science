{
 "cells": [
  {
   "cell_type": "code",
   "execution_count": 17,
   "id": "17a79d9a",
   "metadata": {},
   "outputs": [],
   "source": [
    "import requests\n",
    "import pandas as pd\n",
    "import seaborn as sns"
   ]
  },
  {
   "cell_type": "code",
   "execution_count": 2,
   "id": "b2987b91",
   "metadata": {},
   "outputs": [],
   "source": [
    "#url = 'https://api.nal.usda.gov/fdc/v1/foods/list?&pageSize=194&pageNumber=51&api_key=DLKMiNZ1JdqunkajetLlxzCgEVaE1P3FPvKwzz8f'"
   ]
  },
  {
   "cell_type": "code",
   "execution_count": 3,
   "id": "8317e4df",
   "metadata": {},
   "outputs": [],
   "source": [
    "# response = requests.get(url)\n",
    "# response = response.json()\n",
    "# response"
   ]
  },
  {
   "cell_type": "code",
   "execution_count": 2,
   "id": "6ad0feae",
   "metadata": {},
   "outputs": [],
   "source": [
    "def requestAllFood():\n",
    "    pageNum = 1\n",
    "    foods = []\n",
    "    while True:\n",
    "        url = 'https://api.nal.usda.gov/fdc/v1/foods/list?&api_key=DLKMiNZ1JdqunkajetLlxzCgEVaE1P3FPvKwzz8f&pageSize=200&pageNumber=' + str(pageNum)\n",
    "        req = requests.get(url)\n",
    "        if not req.ok:\n",
    "            break\n",
    "        foods = foods + req.json()\n",
    "        pageNum = pageNum + 1\n",
    "    \n",
    "    return foods"
   ]
  },
  {
   "cell_type": "code",
   "execution_count": 3,
   "id": "0b0170f0",
   "metadata": {},
   "outputs": [],
   "source": [
    "listOfFoods = requestAllFood()"
   ]
  },
  {
   "cell_type": "code",
   "execution_count": 8,
   "id": "4e56e136",
   "metadata": {},
   "outputs": [
    {
     "name": "stdout",
     "output_type": "stream",
     "text": [
      "{'fdcId': 2344293, 'description': 'Adobo, with noodles', 'dataType': 'Survey (FNDDS)', 'publicationDate': '2022-10-28', 'foodCode': '58137300', 'foodNutrients': [{'number': '203', 'name': 'Protein', 'amount': 16.9, 'unitName': 'G'}, {'number': '204', 'name': 'Total lipid (fat)', 'amount': 7.66, 'unitName': 'G'}, {'number': '205', 'name': 'Carbohydrate, by difference', 'amount': 8.14, 'unitName': 'G'}, {'number': '208', 'name': 'Energy', 'amount': 172, 'unitName': 'KCAL'}, {'number': '221', 'name': 'Alcohol, ethyl', 'amount': 0.0, 'unitName': 'G'}, {'number': '255', 'name': 'Water', 'amount': 65.3, 'unitName': 'G'}, {'number': '262', 'name': 'Caffeine', 'amount': 0.0, 'unitName': 'MG'}, {'number': '263', 'name': 'Theobromine', 'amount': 0.0, 'unitName': 'MG'}, {'number': '269', 'name': 'Sugars, total including NLEA', 'amount': 0.03, 'unitName': 'G'}, {'number': '291', 'name': 'Fiber, total dietary', 'amount': 0.4, 'unitName': 'G'}, {'number': '301', 'name': 'Calcium, Ca', 'amount': 15.0, 'unitName': 'MG'}, {'number': '303', 'name': 'Iron, Fe', 'amount': 0.99, 'unitName': 'MG'}, {'number': '304', 'name': 'Magnesium, Mg', 'amount': 18.0, 'unitName': 'MG'}, {'number': '305', 'name': 'Phosphorus, P', 'amount': 149, 'unitName': 'MG'}, {'number': '306', 'name': 'Potassium, K', 'amount': 200, 'unitName': 'MG'}, {'number': '307', 'name': 'Sodium, Na', 'amount': 510, 'unitName': 'MG'}, {'number': '309', 'name': 'Zinc, Zn', 'amount': 2.39, 'unitName': 'MG'}, {'number': '312', 'name': 'Copper, Cu', 'amount': 0.085, 'unitName': 'MG'}, {'number': '317', 'name': 'Selenium, Se', 'amount': 23.1, 'unitName': 'UG'}, {'number': '319', 'name': 'Retinol', 'amount': 4.0, 'unitName': 'UG'}, {'number': '320', 'name': 'Vitamin A, RAE', 'amount': 4.0, 'unitName': 'UG'}, {'number': '321', 'name': 'Carotene, beta', 'amount': 0.0, 'unitName': 'UG'}, {'number': '322', 'name': 'Carotene, alpha', 'amount': 0.0, 'unitName': 'UG'}, {'number': '323', 'name': 'Vitamin E (alpha-tocopherol)', 'amount': 0.2, 'unitName': 'MG'}, {'number': '328', 'name': 'Vitamin D (D2 + D3)', 'amount': 0.3, 'unitName': 'UG'}, {'number': '334', 'name': 'Cryptoxanthin, beta', 'amount': 0.0, 'unitName': 'UG'}, {'number': '337', 'name': 'Lycopene', 'amount': 0.0, 'unitName': 'UG'}, {'number': '338', 'name': 'Lutein + zeaxanthin', 'amount': 0.0, 'unitName': 'UG'}, {'number': '401', 'name': 'Vitamin C, total ascorbic acid', 'amount': 0.0, 'unitName': 'MG'}, {'number': '404', 'name': 'Thiamin', 'amount': 0.192, 'unitName': 'MG'}, {'number': '405', 'name': 'Riboflavin', 'amount': 0.204, 'unitName': 'MG'}, {'number': '406', 'name': 'Niacin', 'amount': 3.06, 'unitName': 'MG'}, {'number': '415', 'name': 'Vitamin B-6', 'amount': 0.216, 'unitName': 'MG'}, {'number': '417', 'name': 'Folate, total', 'amount': 3.0, 'unitName': 'UG'}, {'number': '418', 'name': 'Vitamin B-12', 'amount': 0.43, 'unitName': 'UG'}, {'number': '421', 'name': 'Choline, total', 'amount': 57.1, 'unitName': 'MG'}, {'number': '430', 'name': 'Vitamin K (phylloquinone)', 'amount': 0.0, 'unitName': 'UG'}, {'number': '431', 'name': 'Folic acid', 'amount': 0.0, 'unitName': 'UG'}, {'number': '432', 'name': 'Folate, food', 'amount': 3.0, 'unitName': 'UG'}, {'number': '435', 'name': 'Folate, DFE', 'amount': 3.0, 'unitName': 'UG'}, {'number': '573', 'name': 'Vitamin E, added', 'amount': 0.0, 'unitName': 'MG'}, {'number': '578', 'name': 'Vitamin B-12, added', 'amount': 0.0, 'unitName': 'UG'}, {'number': '601', 'name': 'Cholesterol', 'amount': 72.0, 'unitName': 'MG'}, {'number': '606', 'name': 'Fatty acids, total saturated', 'amount': 2.48, 'unitName': 'G'}, {'number': '607', 'name': 'SFA 4:0', 'amount': 0.0, 'unitName': 'G'}, {'number': '608', 'name': 'SFA 6:0', 'amount': 0.0, 'unitName': 'G'}, {'number': '609', 'name': 'SFA 8:0', 'amount': 0.0, 'unitName': 'G'}, {'number': '610', 'name': 'SFA 10:0', 'amount': 0.004, 'unitName': 'G'}, {'number': '611', 'name': 'SFA 12:0', 'amount': 0.004, 'unitName': 'G'}, {'number': '612', 'name': 'SFA 14:0', 'amount': 0.071, 'unitName': 'G'}, {'number': '613', 'name': 'SFA 16:0', 'amount': 1.68, 'unitName': 'G'}, {'number': '614', 'name': 'SFA 18:0', 'amount': 0.697, 'unitName': 'G'}, {'number': '617', 'name': 'MUFA 18:1', 'amount': 3.07, 'unitName': 'G'}, {'number': '618', 'name': 'PUFA 18:2', 'amount': 0.867, 'unitName': 'G'}, {'number': '619', 'name': 'PUFA 18:3', 'amount': 0.046, 'unitName': 'G'}, {'number': '620', 'name': 'PUFA 20:4', 'amount': 0.04, 'unitName': 'G'}, {'number': '621', 'name': 'PUFA 22:6 n-3 (DHA)', 'amount': 0.0, 'unitName': 'G'}, {'number': '626', 'name': 'MUFA 16:1', 'amount': 0.353, 'unitName': 'G'}, {'number': '627', 'name': 'PUFA 18:4', 'amount': 0.0, 'unitName': 'G'}, {'number': '628', 'name': 'MUFA 20:1', 'amount': 0.04, 'unitName': 'G'}, {'number': '629', 'name': 'PUFA 20:5 n-3 (EPA)', 'amount': 0.0, 'unitName': 'G'}, {'number': '630', 'name': 'MUFA 22:1', 'amount': 0.0, 'unitName': 'G'}, {'number': '631', 'name': 'PUFA 22:5 n-3 (DPA)', 'amount': 0.0, 'unitName': 'G'}, {'number': '645', 'name': 'Fatty acids, total monounsaturated', 'amount': 3.47, 'unitName': 'G'}, {'number': '646', 'name': 'Fatty acids, total polyunsaturated', 'amount': 0.973, 'unitName': 'G'}]}\n"
     ]
    }
   ],
   "source": [
    "print(listOfFoods[6])"
   ]
  },
  {
   "cell_type": "code",
   "execution_count": 9,
   "id": "03230c61",
   "metadata": {},
   "outputs": [],
   "source": [
    "def getIron():\n",
    "    iron = []\n",
    "    for food in listOfFoods:\n",
    "        name = food['description']\n",
    "        for nutrient in food['foodNutrients']:\n",
    "            if nutrient['name'] == 'Iron, Fe':\n",
    "                amount = nutrient['amount']\n",
    "                temp = {'Name': name, 'Iron': amount}\n",
    "                iron.append(temp)\n",
    "    return iron"
   ]
  },
  {
   "cell_type": "code",
   "execution_count": 15,
   "id": "89992087",
   "metadata": {},
   "outputs": [],
   "source": [
    "df = pd.DataFrame(data)"
   ]
  },
  {
   "cell_type": "code",
   "execution_count": 12,
   "id": "d2a9e4c2",
   "metadata": {},
   "outputs": [
    {
     "name": "stdout",
     "output_type": "stream",
     "text": [
      "9891\n"
     ]
    }
   ],
   "source": [
    "data = getIron()\n"
   ]
  },
  {
   "cell_type": "code",
   "execution_count": 48,
   "id": "0d52653b",
   "metadata": {},
   "outputs": [],
   "source": [
    "def removeBABY(df):\n",
    "    index = 0\n",
    "    for entry in df['Name']:\n",
    "        if \"Baby\" in entry:\n",
    "            df = df.drop(index,inplace = True)\n",
    "        index = index + 1\n",
    "    return df    "
   ]
  },
  {
   "cell_type": "code",
   "execution_count": 50,
   "id": "90a118ae",
   "metadata": {},
   "outputs": [
    {
     "ename": "NameError",
     "evalue": "name 'entry' is not defined",
     "output_type": "error",
     "traceback": [
      "\u001b[1;31m---------------------------------------------------------------------------\u001b[0m",
      "\u001b[1;31mNameError\u001b[0m                                 Traceback (most recent call last)",
      "\u001b[1;32m~\\AppData\\Local\\Temp\\ipykernel_11484\\2673456461.py\u001b[0m in \u001b[0;36m<module>\u001b[1;34m\u001b[0m\n\u001b[1;32m----> 1\u001b[1;33m \u001b[0mprint\u001b[0m\u001b[1;33m(\u001b[0m\u001b[0mremoveBABY\u001b[0m\u001b[1;33m(\u001b[0m\u001b[0mdf\u001b[0m\u001b[1;33m=\u001b[0m\u001b[0mentry\u001b[0m\u001b[1;33m)\u001b[0m\u001b[1;33m)\u001b[0m\u001b[1;33m\u001b[0m\u001b[1;33m\u001b[0m\u001b[0m\n\u001b[0m",
      "\u001b[1;31mNameError\u001b[0m: name 'entry' is not defined"
     ]
    }
   ],
   "source": [
    "print(removeBABY(df)) "
   ]
  },
  {
   "cell_type": "code",
   "execution_count": 45,
   "id": "0c0061cc",
   "metadata": {},
   "outputs": [
    {
     "ename": "NameError",
     "evalue": "name 'df' is not defined",
     "output_type": "error",
     "traceback": [
      "\u001b[1;31m---------------------------------------------------------------------------\u001b[0m",
      "\u001b[1;31mNameError\u001b[0m                                 Traceback (most recent call last)",
      "\u001b[1;32m~\\AppData\\Local\\Temp\\ipykernel_11484\\964094849.py\u001b[0m in \u001b[0;36m<module>\u001b[1;34m\u001b[0m\n\u001b[1;32m----> 1\u001b[1;33m \u001b[0mdf\u001b[0m\u001b[1;33m.\u001b[0m\u001b[0mhead\u001b[0m\u001b[1;33m(\u001b[0m\u001b[1;33m)\u001b[0m\u001b[1;33m\u001b[0m\u001b[1;33m\u001b[0m\u001b[0m\n\u001b[0m",
      "\u001b[1;31mNameError\u001b[0m: name 'df' is not defined"
     ]
    }
   ],
   "source": [
    "df.head()"
   ]
  },
  {
   "cell_type": "code",
   "execution_count": 38,
   "id": "192ad243",
   "metadata": {},
   "outputs": [
    {
     "ename": "NameError",
     "evalue": "name 'df' is not defined",
     "output_type": "error",
     "traceback": [
      "\u001b[1;31m---------------------------------------------------------------------------\u001b[0m",
      "\u001b[1;31mNameError\u001b[0m                                 Traceback (most recent call last)",
      "\u001b[1;32m~\\AppData\\Local\\Temp\\ipykernel_11484\\146493156.py\u001b[0m in \u001b[0;36m<module>\u001b[1;34m\u001b[0m\n\u001b[1;32m----> 1\u001b[1;33m \u001b[0mtop\u001b[0m \u001b[1;33m=\u001b[0m \u001b[0mdf\u001b[0m\u001b[1;33m.\u001b[0m\u001b[0msort_values\u001b[0m\u001b[1;33m(\u001b[0m\u001b[0mby\u001b[0m\u001b[1;33m=\u001b[0m\u001b[1;34m\"Iron\"\u001b[0m\u001b[1;33m,\u001b[0m \u001b[0mascending\u001b[0m\u001b[1;33m=\u001b[0m\u001b[1;32mFalse\u001b[0m\u001b[1;33m)\u001b[0m\u001b[1;33m\u001b[0m\u001b[1;33m\u001b[0m\u001b[0m\n\u001b[0m",
      "\u001b[1;31mNameError\u001b[0m: name 'df' is not defined"
     ]
    }
   ],
   "source": [
    "top = df.sort_values(by=\"Iron\", ascending=False)"
   ]
  },
  {
   "cell_type": "code",
   "execution_count": null,
   "id": "b799bc5b",
   "metadata": {},
   "outputs": [],
   "source": []
  },
  {
   "cell_type": "code",
   "execution_count": 39,
   "id": "3866d581",
   "metadata": {},
   "outputs": [
    {
     "ename": "NameError",
     "evalue": "name 'top' is not defined",
     "output_type": "error",
     "traceback": [
      "\u001b[1;31m---------------------------------------------------------------------------\u001b[0m",
      "\u001b[1;31mNameError\u001b[0m                                 Traceback (most recent call last)",
      "\u001b[1;32m~\\AppData\\Local\\Temp\\ipykernel_11484\\1961661847.py\u001b[0m in \u001b[0;36m<module>\u001b[1;34m\u001b[0m\n\u001b[1;32m----> 1\u001b[1;33m \u001b[0mtop10\u001b[0m \u001b[1;33m=\u001b[0m \u001b[0mtop\u001b[0m\u001b[1;33m[\u001b[0m\u001b[1;33m:\u001b[0m\u001b[1;36m10\u001b[0m\u001b[1;33m]\u001b[0m\u001b[1;33m\u001b[0m\u001b[1;33m\u001b[0m\u001b[0m\n\u001b[0m",
      "\u001b[1;31mNameError\u001b[0m: name 'top' is not defined"
     ]
    }
   ],
   "source": [
    "top10 = top[:10]"
   ]
  },
  {
   "cell_type": "code",
   "execution_count": 40,
   "id": "84ec9cbf",
   "metadata": {},
   "outputs": [
    {
     "ename": "NameError",
     "evalue": "name 'top10' is not defined",
     "output_type": "error",
     "traceback": [
      "\u001b[1;31m---------------------------------------------------------------------------\u001b[0m",
      "\u001b[1;31mNameError\u001b[0m                                 Traceback (most recent call last)",
      "\u001b[1;32m~\\AppData\\Local\\Temp\\ipykernel_11484\\2450397020.py\u001b[0m in \u001b[0;36m<module>\u001b[1;34m\u001b[0m\n\u001b[1;32m----> 1\u001b[1;33m \u001b[0mtop10\u001b[0m\u001b[1;33m.\u001b[0m\u001b[0mhead\u001b[0m\u001b[1;33m(\u001b[0m\u001b[1;33m)\u001b[0m\u001b[1;33m\u001b[0m\u001b[1;33m\u001b[0m\u001b[0m\n\u001b[0m",
      "\u001b[1;31mNameError\u001b[0m: name 'top10' is not defined"
     ]
    }
   ],
   "source": [
    "top10.head()"
   ]
  },
  {
   "cell_type": "code",
   "execution_count": 41,
   "id": "04743576",
   "metadata": {},
   "outputs": [
    {
     "ename": "NameError",
     "evalue": "name 'sns' is not defined",
     "output_type": "error",
     "traceback": [
      "\u001b[1;31m---------------------------------------------------------------------------\u001b[0m",
      "\u001b[1;31mNameError\u001b[0m                                 Traceback (most recent call last)",
      "\u001b[1;32m~\\AppData\\Local\\Temp\\ipykernel_11484\\1090943220.py\u001b[0m in \u001b[0;36m<module>\u001b[1;34m\u001b[0m\n\u001b[1;32m----> 1\u001b[1;33m \u001b[0msns\u001b[0m\u001b[1;33m.\u001b[0m\u001b[0mbarplot\u001b[0m\u001b[1;33m(\u001b[0m\u001b[0mdata\u001b[0m\u001b[1;33m=\u001b[0m\u001b[0mtop10\u001b[0m\u001b[1;33m,\u001b[0m \u001b[0mx\u001b[0m\u001b[1;33m=\u001b[0m\u001b[1;34m\"Iron\"\u001b[0m\u001b[1;33m,\u001b[0m \u001b[0my\u001b[0m\u001b[1;33m=\u001b[0m\u001b[1;34m\"Name\"\u001b[0m\u001b[1;33m)\u001b[0m\u001b[1;33m\u001b[0m\u001b[1;33m\u001b[0m\u001b[0m\n\u001b[0m",
      "\u001b[1;31mNameError\u001b[0m: name 'sns' is not defined"
     ]
    }
   ],
   "source": [
    "sns.barplot(data=top10, x=\"Iron\", y=\"Name\")"
   ]
  },
  {
   "cell_type": "code",
   "execution_count": 42,
   "id": "f49a469c",
   "metadata": {},
   "outputs": [
    {
     "ename": "SyntaxError",
     "evalue": "invalid syntax (86139833.py, line 1)",
     "output_type": "error",
     "traceback": [
      "\u001b[1;36m  File \u001b[1;32m\"C:\\Users\\mjacobs7\\AppData\\Local\\Temp\\ipykernel_11484\\86139833.py\"\u001b[1;36m, line \u001b[1;32m1\u001b[0m\n\u001b[1;33m    sns.hisplot(data=top10,y=\"Name\",= \"Iron\")\u001b[0m\n\u001b[1;37m                                    ^\u001b[0m\n\u001b[1;31mSyntaxError\u001b[0m\u001b[1;31m:\u001b[0m invalid syntax\n"
     ]
    }
   ],
   "source": [
    "sns.hisplot(data=top10,y=\"Name\",= \"Iron\")"
   ]
  },
  {
   "cell_type": "code",
   "execution_count": null,
   "id": "eec8756c",
   "metadata": {},
   "outputs": [],
   "source": []
  },
  {
   "cell_type": "code",
   "execution_count": null,
   "id": "0d832953",
   "metadata": {},
   "outputs": [],
   "source": []
  },
  {
   "cell_type": "code",
   "execution_count": null,
   "id": "45ca08c7",
   "metadata": {},
   "outputs": [],
   "source": []
  },
  {
   "cell_type": "code",
   "execution_count": null,
   "id": "47ac34f1",
   "metadata": {},
   "outputs": [],
   "source": []
  },
  {
   "cell_type": "code",
   "execution_count": null,
   "id": "1cce423f",
   "metadata": {},
   "outputs": [],
   "source": []
  },
  {
   "cell_type": "code",
   "execution_count": null,
   "id": "4b0af091",
   "metadata": {},
   "outputs": [],
   "source": []
  }
 ],
 "metadata": {
  "kernelspec": {
   "display_name": "Python 3 (ipykernel)",
   "language": "python",
   "name": "python3"
  },
  "language_info": {
   "codemirror_mode": {
    "name": "ipython",
    "version": 3
   },
   "file_extension": ".py",
   "mimetype": "text/x-python",
   "name": "python",
   "nbconvert_exporter": "python",
   "pygments_lexer": "ipython3",
   "version": "3.9.13"
  }
 },
 "nbformat": 4,
 "nbformat_minor": 5
}
