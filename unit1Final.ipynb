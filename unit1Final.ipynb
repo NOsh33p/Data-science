{
 "cells": [
  {
   "cell_type": "markdown",
   "id": "3d0231ad",
   "metadata": {},
   "source": []
  },
  {
   "cell_type": "code",
   "execution_count": 5,
   "id": "843f59da",
   "metadata": {},
   "outputs": [
    {
     "name": "stdout",
     "output_type": "stream",
     "text": [
      "[7, 8, 5, 6]\n",
      "<function insertion_Sort at 0x000001636FC8D040>\n",
      "sorted list is:\n",
      "[0, 1, 2, 3, 4, 5, 6, 7, 8, 9, 10, 11, 12, 13, 14, 15, 16, 17, 18, 19]\n",
      "0.0009961128234863281\n",
      "13414\n"
     ]
    }
   ],
   "source": [
    "import time\n",
    "import random\n",
    "import tracemalloc\n",
    "#asking user what they want in their list\n",
    "num_Sort = random.sample(range(0,20),20)\n",
    "num_Sort.sort()\n",
    "y = [1,2,3,4]\n",
    "z = [5,6,7,8]\n",
    "random.shuffle(z)\n",
    "print(z)\n",
    "a = y + z\n",
    "\n",
    "\"\"\"\n",
    "user_Input = int(input(\"how many numbers do you want your list to be?:\"))\n",
    "for i in range(user_Input):\n",
    "    num = int(input(\"what number?:\"))\n",
    "    if num == \"\":\n",
    "        print(\"INVALID\")\n",
    "        num = int(input(\"what number?:\"))\n",
    "    num_Sort.append(num)\n",
    "\"\"\"\n",
    "#function that deals with the sorting\n",
    "def insertion_Sort(list_Key, count):\n",
    "    j = 0\n",
    "    for i in range(1,len(num_Sort)):\n",
    "        list_Key = num_Sort[i]\n",
    "        #moving integers greater than list_Key to\n",
    "        #the right of current position\n",
    "        j =i - 1\n",
    "        count +=1\n",
    "        while j >= 0 and list_Key < num_Sort[j]:\n",
    "            num_Sort[j-1] = num_Sort[j]\n",
    "            j = j - 1\n",
    "        num_Sort[j+1] = list_Key\n",
    "    return count\n",
    "\n",
    "count = 0\n",
    "print(insertion_Sort)\n",
    "x1,y1 = tracemalloc.get_traced_memory()\n",
    "tracemalloc.start()\n",
    "x = time.time()\n",
    "\n",
    "lst = []\n",
    "print(\"sorted list is:\")\n",
    "for i in range(len(num_Sort)):\n",
    "    lst.append(num_Sort[i])\n",
    "\n",
    "x2,y2 = tracemalloc.get_traced_memory()\n",
    "tracemalloc.stop()\n",
    "y = time.time()\n",
    "print(lst)\n",
    "print(y-x)\n",
    "print(y2-y1)"
   ]
  },
  {
   "cell_type": "code",
   "execution_count": null,
   "id": "0eaf9403",
   "metadata": {},
   "outputs": [],
   "source": []
  },
  {
   "cell_type": "code",
   "execution_count": null,
   "id": "c68ef318",
   "metadata": {},
   "outputs": [],
   "source": []
  },
  {
   "cell_type": "code",
   "execution_count": null,
   "id": "dc492ce3",
   "metadata": {},
   "outputs": [],
   "source": []
  }
 ],
 "metadata": {
  "kernelspec": {
   "display_name": "Python 3 (ipykernel)",
   "language": "python",
   "name": "python3"
  },
  "language_info": {
   "codemirror_mode": {
    "name": "ipython",
    "version": 3
   },
   "file_extension": ".py",
   "mimetype": "text/x-python",
   "name": "python",
   "nbconvert_exporter": "python",
   "pygments_lexer": "ipython3",
   "version": "3.9.12"
  }
 },
 "nbformat": 4,
 "nbformat_minor": 5
}
