{
 "cells": [
  {
   "cell_type": "markdown",
   "id": "3d0231ad",
   "metadata": {},
   "source": []
  },
  {
   "cell_type": "code",
   "execution_count": 1,
   "id": "efc41441",
   "metadata": {},
   "outputs": [
    {
     "name": "stdout",
     "output_type": "stream",
     "text": [
      "how many numbers do you want your list to be?:20\n",
      "what number?:1\n",
      "what number?:23\n",
      "what number?:67\n",
      "what number?:398\n",
      "what number?:8247\n",
      "what number?:478\n",
      "what number?:4783\n",
      "what number?:8347832\n",
      "what number?:21872\n",
      "what number?:3873\n",
      "what number?:2864\n",
      "what number?:478\n",
      "what number?:347834\n",
      "what number?:34743\n",
      "what number?:348734\n",
      "what number?:256\n",
      "what number?:36\n",
      "what number?:4367\n",
      "what number?:346\n",
      "what number?:35\n",
      "sorted list is:\n",
      "[1, 23, 35, 36, 67, 256, 346, 398, 478, 478, 2864, 3873, 4367, 4783, 8247, 21872, 34743, 347834, 348734, 8347832]\n"
     ]
    }
   ],
   "source": [
    "#asking user what they want in their list\n",
    "num_Sort = []\n",
    "user_Input = int(input(\"how many numbers do you want your list to be?:\"))\n",
    "for i in range(user_Input):\n",
    "    num = int(input(\"what number?:\"))\n",
    "    if num == \"\":\n",
    "        print(\"INVALID\")\n",
    "        num = int(input(\"what number?:\"))\n",
    "    num_Sort.append(num)\n",
    "#function that deals with the sorting\n",
    "def insertion_Sort(list_Key):\n",
    "    j = 0\n",
    "    for i in range(1,len(num_Sort)):\n",
    "        list_Key = num_Sort[i]\n",
    "        #moving integers greater than list_Key to\n",
    "        #the right of current position\n",
    "        j =i - 1\n",
    "        while j >= 0 and list_Key < num_Sort[j]:\n",
    "            num_Sort[j+1] = num_Sort[j]\n",
    "            j = j - 1\n",
    "        num_Sort[j+1] = list_Key\n",
    "insertion_Sort(num_Sort)\n",
    "lst = []\n",
    "print(\"sorted list is:\")\n",
    "for i in range(len(num_Sort)):\n",
    "    lst.append(num_Sort[i])\n",
    "print(lst)"
   ]
  },
  {
   "cell_type": "code",
   "execution_count": null,
   "id": "9f478a55",
   "metadata": {},
   "outputs": [],
   "source": [
    "import time"
   ]
  },
  {
   "cell_type": "code",
   "execution_count": 5,
   "id": "3f2cba3a",
   "metadata": {},
   "outputs": [
    {
     "ename": "NameError",
     "evalue": "name 'time' is not defined",
     "output_type": "error",
     "traceback": [
      "\u001b[1;31m---------------------------------------------------------------------------\u001b[0m",
      "\u001b[1;31mNameError\u001b[0m                                 Traceback (most recent call last)",
      "Input \u001b[1;32mIn [5]\u001b[0m, in \u001b[0;36m<cell line: 1>\u001b[1;34m()\u001b[0m\n\u001b[1;32m----> 1\u001b[0m x \u001b[38;5;241m=\u001b[39m \u001b[43mtime\u001b[49m\u001b[38;5;241m.\u001b[39mtime()\n",
      "\u001b[1;31mNameError\u001b[0m: name 'time' is not defined"
     ]
    }
   ],
   "source": [
    "x = time.time()\n"
   ]
  },
  {
   "cell_type": "code",
   "execution_count": null,
   "id": "7df6f7e6",
   "metadata": {},
   "outputs": [],
   "source": [
    "y = time.time()"
   ]
  },
  {
   "cell_type": "code",
   "execution_count": null,
   "id": "3f069193",
   "metadata": {},
   "outputs": [],
   "source": [
    "print(y-x)\n"
   ]
  },
  {
   "cell_type": "code",
   "execution_count": null,
   "id": "6ecd8cc5",
   "metadata": {},
   "outputs": [],
   "source": []
  }
 ],
 "metadata": {
  "kernelspec": {
   "display_name": "Python 3 (ipykernel)",
   "language": "python",
   "name": "python3"
  },
  "language_info": {
   "codemirror_mode": {
    "name": "ipython",
    "version": 3
   },
   "file_extension": ".py",
   "mimetype": "text/x-python",
   "name": "python",
   "nbconvert_exporter": "python",
   "pygments_lexer": "ipython3",
   "version": "3.9.12"
  }
 },
 "nbformat": 4,
 "nbformat_minor": 5
}
