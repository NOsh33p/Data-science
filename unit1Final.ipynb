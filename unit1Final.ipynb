{
 "cells": [
  {
   "cell_type": "markdown",
   "id": "3d0231ad",
   "metadata": {},
   "source": []
  },
  {
   "cell_type": "code",
   "execution_count": null,
   "id": "843f59da",
   "metadata": {},
   "outputs": [],
   "source": [
    "import time\n",
    "import random\n",
    "import tracemalloc\n",
    "#asking user what they want in their list\n",
    "num_Sort = random.sample(range(0,262144),262144)\n",
    "\n",
    "\"\"\"\n",
    "user_Input = int(input(\"how many numbers do you want your list to be?:\"))\n",
    "for i in range(user_Input):\n",
    "    num = int(input(\"what number?:\"))\n",
    "    if num == \"\":\n",
    "        print(\"INVALID\")\n",
    "        num = int(input(\"what number?:\"))\n",
    "    num_Sort.append(num)\n",
    "\"\"\"\n",
    "#function that deals with the sorting\n",
    "def insertion_Sort(list_Key):\n",
    "    j = 0\n",
    "    for i in range(1,len(num_Sort)):\n",
    "        list_Key = num_Sort[i]\n",
    "        #moving integers greater than list_Key to\n",
    "        #the right of current position\n",
    "        j =i - 1\n",
    "        while j >= 0 and list_Key < num_Sort[j]:\n",
    "            num_Sort[j+1] = num_Sort[j]\n",
    "            j = j - 1\n",
    "        num_Sort[j+1] = list_Key\n",
    "x = time.time()\n",
    "y = time.time()\n",
    "\n",
    "insertion_Sort(num_Sort)\n",
    "x1,y1 = tracemalloc.get_traced_memory()\n",
    "tracemalloc.start()\n",
    "lst = []\n",
    "print(\"sorted list is:\")\n",
    "for i in range(len(num_Sort)):\n",
    "    lst.append(num_Sort[i])\n",
    "\n",
    "x2,y2 = tracemalloc.get_traced_memory()\n",
    "tracemalloc.stop()\n",
    "print(lst)\n",
    "print(x-y)\n",
    "print(y2-y1)"
   ]
  },
  {
   "cell_type": "code",
   "execution_count": null,
   "id": "0eaf9403",
   "metadata": {},
   "outputs": [],
   "source": []
  },
  {
   "cell_type": "code",
   "execution_count": null,
   "id": "c68ef318",
   "metadata": {},
   "outputs": [],
   "source": []
  },
  {
   "cell_type": "code",
   "execution_count": null,
   "id": "dc492ce3",
   "metadata": {},
   "outputs": [],
   "source": []
  }
 ],
 "metadata": {
  "kernelspec": {
   "display_name": "Python 3 (ipykernel)",
   "language": "python",
   "name": "python3"
  },
  "language_info": {
   "codemirror_mode": {
    "name": "ipython",
    "version": 3
   },
   "file_extension": ".py",
   "mimetype": "text/x-python",
   "name": "python",
   "nbconvert_exporter": "python",
   "pygments_lexer": "ipython3",
   "version": "3.9.12"
  }
 },
 "nbformat": 4,
 "nbformat_minor": 5
}
