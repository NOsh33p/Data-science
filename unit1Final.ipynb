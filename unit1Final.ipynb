{
 "cells": [
  {
   "cell_type": "code",
   "execution_count": 12,
   "id": "9cdcc8eb",
   "metadata": {},
   "outputs": [
    {
     "name": "stdout",
     "output_type": "stream",
     "text": [
      "how many numbers do you want your list to be?:5\n",
      "what number?:30\n",
      "what number?:1000\n",
      "what number?:500\n",
      "what number?:67\n",
      "what number?:5\n",
      "sorted list is:\n",
      "[5, 30, 67, 500, 1000]\n"
     ]
    }
   ],
   "source": [
    "#asking user what they want in their list\n",
    "num_Sort = []\n",
    "user_Input = int(input(\"how many numbers do you want your list to be?:\"))\n",
    "for i in range(user_Input):\n",
    "    num = int(input(\"what number?:\"))\n",
    "    if num == \"\":\n",
    "        print(\"INVALID\")\n",
    "        num = int(input(\"what number?:\"))\n",
    "    num_Sort.append(num)\n",
    "#function that deals with the sorting\n",
    "def insertion_Sort(list_Key):\n",
    "    j = 0\n",
    "    for i in range(1,len(num_Sort)):\n",
    "        list_Key = num_Sort[i]\n",
    "        #moving integers greater than list_Key to\n",
    "        #the right of current position\n",
    "        j =i - 1\n",
    "        while j >= 0 and list_Key < num_Sort[j]:\n",
    "            num_Sort[j+1] = num_Sort[j]\n",
    "            j = j - 1\n",
    "        num_Sort[j+1] = list_Key\n",
    "insertion_Sort(num_Sort)\n",
    "lst = []\n",
    "print(\"sorted list is:\")\n",
    "for i in range(len(num_Sort)):\n",
    "    lst.append(num_Sort[i])\n",
    "print(lst)"
   ]
  },
  {
   "cell_type": "markdown",
   "id": "b1318c08",
   "metadata": {},
   "source": []
  }
 ],
 "metadata": {
  "kernelspec": {
   "display_name": "Python 3 (ipykernel)",
   "language": "python",
   "name": "python3"
  },
  "language_info": {
   "codemirror_mode": {
    "name": "ipython",
    "version": 3
   },
   "file_extension": ".py",
   "mimetype": "text/x-python",
   "name": "python",
   "nbconvert_exporter": "python",
   "pygments_lexer": "ipython3",
   "version": "3.9.12"
  }
 },
 "nbformat": 4,
 "nbformat_minor": 5
}
