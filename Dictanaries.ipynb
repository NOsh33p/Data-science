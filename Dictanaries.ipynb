{
 "cells": [
  {
   "cell_type": "code",
   "execution_count": 4,
   "id": "e84ae178",
   "metadata": {},
   "outputs": [
    {
     "ename": "SyntaxError",
     "evalue": "invalid syntax (1600978484.py, line 3)",
     "output_type": "error",
     "traceback": [
      "\u001b[1;36m  Input \u001b[1;32mIn [4]\u001b[1;36m\u001b[0m\n\u001b[1;33m    week = {\"wednesday\":[50,25,71],\"thursday\":[60,31,53],\"friday\":[51,24,50],\"saturday\":[79,21,69],\"sunday\":[77,39,57],\"monday\":[93,40,66],\"tuesday\":[55,32,63]},\"2001-08-08\":[\"tuesday\",87,89,1]\u001b[0m\n\u001b[1;37m                                                                                                                                                                             ^\u001b[0m\n\u001b[1;31mSyntaxError\u001b[0m\u001b[1;31m:\u001b[0m invalid syntax\n"
     ]
    }
   ],
   "source": [
    "week_Dolist = {\"saturday\":[\"Laundry\"],\"Sunday\":[\"Trash\"]}\n",
    "print(week_Dolist[\"saturday\"])\n",
    "week = {\"wednesday\":[50,25,71],\"thursday\":[60,31,53],\"friday\":[51,24,50],\"saturday\":[79,21,69],\"sunday\":[77,39,57],\"monday\":[93,40,66],\"tuesday\":[55,32,63]},\"2001-08-08\":[\"tuesday\",87,89,1]\n",
    "del week[\"wednesday\"]   "
   ]
  },
  {
   "cell_type": "code",
   "execution_count": null,
   "id": "eac969ad",
   "metadata": {},
   "outputs": [],
   "source": []
  },
  {
   "cell_type": "code",
   "execution_count": null,
   "id": "1670483a",
   "metadata": {},
   "outputs": [],
   "source": []
  },
  {
   "cell_type": "code",
   "execution_count": null,
   "id": "88f1a9ec",
   "metadata": {},
   "outputs": [],
   "source": []
  },
  {
   "cell_type": "code",
   "execution_count": null,
   "id": "9deca58e",
   "metadata": {},
   "outputs": [],
   "source": []
  }
 ],
 "metadata": {
  "kernelspec": {
   "display_name": "Python 3 (ipykernel)",
   "language": "python",
   "name": "python3"
  },
  "language_info": {
   "codemirror_mode": {
    "name": "ipython",
    "version": 3
   },
   "file_extension": ".py",
   "mimetype": "text/x-python",
   "name": "python",
   "nbconvert_exporter": "python",
   "pygments_lexer": "ipython3",
   "version": "3.9.12"
  }
 },
 "nbformat": 4,
 "nbformat_minor": 5
}
