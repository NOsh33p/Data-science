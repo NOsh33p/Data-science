{
 "cells": [
  {
   "cell_type": "code",
   "execution_count": 24,
   "id": "62020629",
   "metadata": {},
   "outputs": [
    {
     "name": "stdout",
     "output_type": "stream",
     "text": [
      "9th\n",
      "*\n",
      "10th\n",
      "*\n",
      "11th\n",
      "*\n",
      "*\n",
      "*\n",
      "*\n",
      "12th\n",
      "*\n",
      "*\n",
      "*\n",
      "*\n",
      "*\n",
      "*\n",
      "*\n",
      "*\n"
     ]
    }
   ],
   "source": [
    "grade = [[10],\n",
    "[11],[11],[11],[11],[12],[12],[12],[12],[12],[12],[12],[9],[12]]\n",
    "\n",
    "\n",
    "count_Nine = grade.count([9])\n",
    "print(\"9th\")\n",
    "for i in range(count_Nine):\n",
    "         print(\"*\")\n",
    "print(\"10th\")        \n",
    "count_Ten = grade.count([10])\n",
    "for i in range(count_Ten):\n",
    "         print(\"*\")\n",
    "print(\"11th\")\n",
    "count_Elven = grade.count([11])\n",
    "for i in range(count_Elven):\n",
    "         print(\"*\")\n",
    "print(\"12th\")\n",
    "count_Twelve = grade.count([12])\n",
    "for i in range(count_Twelve):\n",
    "         print(\"*\")"
   ]
  },
  {
   "cell_type": "code",
   "execution_count": null,
   "id": "74365e3b",
   "metadata": {},
   "outputs": [],
   "source": []
  },
  {
   "cell_type": "code",
   "execution_count": null,
   "id": "9797e49a",
   "metadata": {},
   "outputs": [],
   "source": []
  },
  {
   "cell_type": "code",
   "execution_count": null,
   "id": "d79d1de5",
   "metadata": {},
   "outputs": [],
   "source": []
  }
 ],
 "metadata": {
  "kernelspec": {
   "display_name": "Python 3 (ipykernel)",
   "language": "python",
   "name": "python3"
  },
  "language_info": {
   "codemirror_mode": {
    "name": "ipython",
    "version": 3
   },
   "file_extension": ".py",
   "mimetype": "text/x-python",
   "name": "python",
   "nbconvert_exporter": "python",
   "pygments_lexer": "ipython3",
   "version": "3.9.12"
  }
 },
 "nbformat": 4,
 "nbformat_minor": 5
}
