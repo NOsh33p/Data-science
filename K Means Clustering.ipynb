{
 "cells": [
  {
   "cell_type": "code",
   "execution_count": 1,
   "id": "cbff50e1",
   "metadata": {},
   "outputs": [],
   "source": [
    "import pandas as pd\n",
    "import seaborn as sns\n",
    "import random\n",
    "import matplotlib.pyplot as plt\n",
    "import numpy as np\n",
    "from math import sqrt\n",
    "df = pd.read_csv('TacoBellCustomers.csv')\n",
    "df.dropna(axis=0,inplace=True)\n",
    "df.reset_index(drop=True,inplace=True)"
   ]
  },
  {
   "cell_type": "code",
   "execution_count": 2,
   "id": "24da39cb",
   "metadata": {},
   "outputs": [
    {
     "name": "stdout",
     "output_type": "stream",
     "text": [
      "<class 'pandas.core.frame.DataFrame'>\n",
      "RangeIndex: 8896 entries, 0 to 8895\n",
      "Data columns (total 11 columns):\n",
      " #   Column           Non-Null Count  Dtype  \n",
      "---  ------           --------------  -----  \n",
      " 0   Unnamed: 0       8896 non-null   int64  \n",
      " 1   ID               8896 non-null   int64  \n",
      " 2   Gender           8896 non-null   object \n",
      " 3   Ever_Married     8896 non-null   object \n",
      " 4   Age              8896 non-null   int64  \n",
      " 5   Graduated        8896 non-null   object \n",
      " 6   Profession       8896 non-null   object \n",
      " 7   Work_Experience  8896 non-null   float64\n",
      " 8   Spending_Score   8896 non-null   object \n",
      " 9   Family_Size      8896 non-null   float64\n",
      " 10  State_Purchased  8896 non-null   object \n",
      "dtypes: float64(2), int64(3), object(6)\n",
      "memory usage: 764.6+ KB\n"
     ]
    }
   ],
   "source": [
    "df.info()"
   ]
  },
  {
   "cell_type": "code",
   "execution_count": 3,
   "id": "93b4ca12",
   "metadata": {},
   "outputs": [],
   "source": [
    "#wrangling me data\n",
    "df.drop(['Graduated','Ever_Married',\"Work_Experience\",\"ID\",\"Unnamed: 0\",\"Profession\",'State_Purchased'],axis=1,inplace=True)"
   ]
  },
  {
   "cell_type": "code",
   "execution_count": 4,
   "id": "24306edc",
   "metadata": {},
   "outputs": [
    {
     "data": {
      "text/html": [
       "<div>\n",
       "<style scoped>\n",
       "    .dataframe tbody tr th:only-of-type {\n",
       "        vertical-align: middle;\n",
       "    }\n",
       "\n",
       "    .dataframe tbody tr th {\n",
       "        vertical-align: top;\n",
       "    }\n",
       "\n",
       "    .dataframe thead th {\n",
       "        text-align: right;\n",
       "    }\n",
       "</style>\n",
       "<table border=\"1\" class=\"dataframe\">\n",
       "  <thead>\n",
       "    <tr style=\"text-align: right;\">\n",
       "      <th></th>\n",
       "      <th>Gender</th>\n",
       "      <th>Age</th>\n",
       "      <th>Spending_Score</th>\n",
       "      <th>Family_Size</th>\n",
       "    </tr>\n",
       "  </thead>\n",
       "  <tbody>\n",
       "    <tr>\n",
       "      <th>0</th>\n",
       "      <td>Female</td>\n",
       "      <td>36</td>\n",
       "      <td>Low</td>\n",
       "      <td>1.0</td>\n",
       "    </tr>\n",
       "    <tr>\n",
       "      <th>1</th>\n",
       "      <td>Male</td>\n",
       "      <td>37</td>\n",
       "      <td>Average</td>\n",
       "      <td>4.0</td>\n",
       "    </tr>\n",
       "    <tr>\n",
       "      <th>2</th>\n",
       "      <td>Male</td>\n",
       "      <td>59</td>\n",
       "      <td>High</td>\n",
       "      <td>2.0</td>\n",
       "    </tr>\n",
       "    <tr>\n",
       "      <th>3</th>\n",
       "      <td>Male</td>\n",
       "      <td>47</td>\n",
       "      <td>High</td>\n",
       "      <td>5.0</td>\n",
       "    </tr>\n",
       "    <tr>\n",
       "      <th>4</th>\n",
       "      <td>Male</td>\n",
       "      <td>61</td>\n",
       "      <td>Low</td>\n",
       "      <td>3.0</td>\n",
       "    </tr>\n",
       "    <tr>\n",
       "      <th>...</th>\n",
       "      <td>...</td>\n",
       "      <td>...</td>\n",
       "      <td>...</td>\n",
       "      <td>...</td>\n",
       "    </tr>\n",
       "    <tr>\n",
       "      <th>8891</th>\n",
       "      <td>Male</td>\n",
       "      <td>41</td>\n",
       "      <td>High</td>\n",
       "      <td>5.0</td>\n",
       "    </tr>\n",
       "    <tr>\n",
       "      <th>8892</th>\n",
       "      <td>Male</td>\n",
       "      <td>35</td>\n",
       "      <td>Low</td>\n",
       "      <td>4.0</td>\n",
       "    </tr>\n",
       "    <tr>\n",
       "      <th>8893</th>\n",
       "      <td>Female</td>\n",
       "      <td>33</td>\n",
       "      <td>Low</td>\n",
       "      <td>1.0</td>\n",
       "    </tr>\n",
       "    <tr>\n",
       "      <th>8894</th>\n",
       "      <td>Female</td>\n",
       "      <td>27</td>\n",
       "      <td>Low</td>\n",
       "      <td>4.0</td>\n",
       "    </tr>\n",
       "    <tr>\n",
       "      <th>8895</th>\n",
       "      <td>Male</td>\n",
       "      <td>37</td>\n",
       "      <td>Average</td>\n",
       "      <td>3.0</td>\n",
       "    </tr>\n",
       "  </tbody>\n",
       "</table>\n",
       "<p>8896 rows × 4 columns</p>\n",
       "</div>"
      ],
      "text/plain": [
       "      Gender  Age Spending_Score  Family_Size\n",
       "0     Female   36            Low          1.0\n",
       "1       Male   37        Average          4.0\n",
       "2       Male   59           High          2.0\n",
       "3       Male   47           High          5.0\n",
       "4       Male   61            Low          3.0\n",
       "...      ...  ...            ...          ...\n",
       "8891    Male   41           High          5.0\n",
       "8892    Male   35            Low          4.0\n",
       "8893  Female   33            Low          1.0\n",
       "8894  Female   27            Low          4.0\n",
       "8895    Male   37        Average          3.0\n",
       "\n",
       "[8896 rows x 4 columns]"
      ]
     },
     "execution_count": 4,
     "metadata": {},
     "output_type": "execute_result"
    }
   ],
   "source": [
    "df"
   ]
  },
  {
   "cell_type": "code",
   "execution_count": 5,
   "id": "cd693f30",
   "metadata": {},
   "outputs": [
    {
     "name": "stdout",
     "output_type": "stream",
     "text": [
      "<class 'pandas.core.frame.DataFrame'>\n",
      "RangeIndex: 8896 entries, 0 to 8895\n",
      "Data columns (total 4 columns):\n",
      " #   Column          Non-Null Count  Dtype  \n",
      "---  ------          --------------  -----  \n",
      " 0   Gender          8896 non-null   object \n",
      " 1   Age             8896 non-null   int64  \n",
      " 2   Spending_Score  8896 non-null   object \n",
      " 3   Family_Size     8896 non-null   float64\n",
      "dtypes: float64(1), int64(1), object(2)\n",
      "memory usage: 278.1+ KB\n"
     ]
    }
   ],
   "source": [
    "df.info()"
   ]
  },
  {
   "cell_type": "code",
   "execution_count": 6,
   "id": "dcf9ee5d",
   "metadata": {},
   "outputs": [],
   "source": [
    "#featurazion by turning string objects to binary\n",
    "for i in range(len(df)):\n",
    "    if df.iat[i,0] == 'Male':\n",
    "        df.iat[i,0] = 0\n",
    "    if df.iat[i,0]=='Female':\n",
    "        df.iat[i,0] = 1\n",
    "df['Gender'] = df['Gender'].astype(int)\n",
    "\n",
    "for i in range(len(df)):\n",
    "    if df.iat[i,2] == 'Low':\n",
    "        df.iat[i,2] = 2\n",
    "    if df.iat[i,2]=='Average':\n",
    "        df.iat[i,2] = 4\n",
    "    if df.iat[i,2] == 'High':\n",
    "        df.iat[i,2] = 5\n",
    "df['Spending_Score'] = df['Spending_Score'].astype(int)\n",
    "\n"
   ]
  },
  {
   "cell_type": "code",
   "execution_count": 7,
   "id": "757f1546",
   "metadata": {},
   "outputs": [],
   "source": [
    "#normalization\n",
    "df_min_max_scaled=df.copy()\n",
    "for column in df_min_max_scaled.columns:\n",
    "    try:\n",
    "        df_min_max_scaled[column] = (df_min_max_scaled[column] - df_min_max_scaled[column].min()) / (df_min_max_scaled[column].max() - df_min_max_scaled[column].min())\n",
    "    except:\n",
    "        pass"
   ]
  },
  {
   "cell_type": "code",
   "execution_count": 8,
   "id": "eb1d1262",
   "metadata": {},
   "outputs": [
    {
     "data": {
      "text/plain": [
       "<AxesSubplot:>"
      ]
     },
     "execution_count": 8,
     "metadata": {},
     "output_type": "execute_result"
    },
    {
     "data": {
      "image/png": "[encoded data removed]",
      "text/plain": [
       "<Figure size 1500x800 with 2 Axes>"
      ]
     },
     "metadata": {},
     "output_type": "display_data"
    }
   ],
   "source": [
    "#heatmap\n",
    "import matplotlib.pyplot as plt\n",
    "fig,ax=plt.subplots()\n",
    "cor = df.corr()\n",
    "fig.set_size_inches(15,8)\n",
    "sns.heatmap(cor, ax=ax, annot=True)"
   ]
  },
  {
   "cell_type": "code",
   "execution_count": 9,
   "id": "91a44a61",
   "metadata": {},
   "outputs": [
    {
     "data": {
      "text/html": [
       "<div>\n",
       "<style scoped>\n",
       "    .dataframe tbody tr th:only-of-type {\n",
       "        vertical-align: middle;\n",
       "    }\n",
       "\n",
       "    .dataframe tbody tr th {\n",
       "        vertical-align: top;\n",
       "    }\n",
       "\n",
       "    .dataframe thead th {\n",
       "        text-align: right;\n",
       "    }\n",
       "</style>\n",
       "<table border=\"1\" class=\"dataframe\">\n",
       "  <thead>\n",
       "    <tr style=\"text-align: right;\">\n",
       "      <th></th>\n",
       "      <th>Gender</th>\n",
       "      <th>Age</th>\n",
       "      <th>Spending_Score</th>\n",
       "      <th>Family_Size</th>\n",
       "    </tr>\n",
       "  </thead>\n",
       "  <tbody>\n",
       "    <tr>\n",
       "      <th>0</th>\n",
       "      <td>1.0</td>\n",
       "      <td>0.253521</td>\n",
       "      <td>0.000000</td>\n",
       "      <td>0.000</td>\n",
       "    </tr>\n",
       "    <tr>\n",
       "      <th>1</th>\n",
       "      <td>0.0</td>\n",
       "      <td>0.267606</td>\n",
       "      <td>0.666667</td>\n",
       "      <td>0.375</td>\n",
       "    </tr>\n",
       "    <tr>\n",
       "      <th>2</th>\n",
       "      <td>0.0</td>\n",
       "      <td>0.577465</td>\n",
       "      <td>1.000000</td>\n",
       "      <td>0.125</td>\n",
       "    </tr>\n",
       "    <tr>\n",
       "      <th>3</th>\n",
       "      <td>0.0</td>\n",
       "      <td>0.408451</td>\n",
       "      <td>1.000000</td>\n",
       "      <td>0.500</td>\n",
       "    </tr>\n",
       "    <tr>\n",
       "      <th>4</th>\n",
       "      <td>0.0</td>\n",
       "      <td>0.605634</td>\n",
       "      <td>0.000000</td>\n",
       "      <td>0.250</td>\n",
       "    </tr>\n",
       "    <tr>\n",
       "      <th>...</th>\n",
       "      <td>...</td>\n",
       "      <td>...</td>\n",
       "      <td>...</td>\n",
       "      <td>...</td>\n",
       "    </tr>\n",
       "    <tr>\n",
       "      <th>8891</th>\n",
       "      <td>0.0</td>\n",
       "      <td>0.323944</td>\n",
       "      <td>1.000000</td>\n",
       "      <td>0.500</td>\n",
       "    </tr>\n",
       "    <tr>\n",
       "      <th>8892</th>\n",
       "      <td>0.0</td>\n",
       "      <td>0.239437</td>\n",
       "      <td>0.000000</td>\n",
       "      <td>0.375</td>\n",
       "    </tr>\n",
       "    <tr>\n",
       "      <th>8893</th>\n",
       "      <td>1.0</td>\n",
       "      <td>0.211268</td>\n",
       "      <td>0.000000</td>\n",
       "      <td>0.000</td>\n",
       "    </tr>\n",
       "    <tr>\n",
       "      <th>8894</th>\n",
       "      <td>1.0</td>\n",
       "      <td>0.126761</td>\n",
       "      <td>0.000000</td>\n",
       "      <td>0.375</td>\n",
       "    </tr>\n",
       "    <tr>\n",
       "      <th>8895</th>\n",
       "      <td>0.0</td>\n",
       "      <td>0.267606</td>\n",
       "      <td>0.666667</td>\n",
       "      <td>0.250</td>\n",
       "    </tr>\n",
       "  </tbody>\n",
       "</table>\n",
       "<p>8896 rows × 4 columns</p>\n",
       "</div>"
      ],
      "text/plain": [
       "      Gender       Age  Spending_Score  Family_Size\n",
       "0        1.0  0.253521        0.000000        0.000\n",
       "1        0.0  0.267606        0.666667        0.375\n",
       "2        0.0  0.577465        1.000000        0.125\n",
       "3        0.0  0.408451        1.000000        0.500\n",
       "4        0.0  0.605634        0.000000        0.250\n",
       "...      ...       ...             ...          ...\n",
       "8891     0.0  0.323944        1.000000        0.500\n",
       "8892     0.0  0.239437        0.000000        0.375\n",
       "8893     1.0  0.211268        0.000000        0.000\n",
       "8894     1.0  0.126761        0.000000        0.375\n",
       "8895     0.0  0.267606        0.666667        0.250\n",
       "\n",
       "[8896 rows x 4 columns]"
      ]
     },
     "execution_count": 9,
     "metadata": {},
     "output_type": "execute_result"
    }
   ],
   "source": [
    "df_min_max_scaled"
   ]
  },
  {
   "cell_type": "code",
   "execution_count": 10,
   "id": "7ad2cf30",
   "metadata": {},
   "outputs": [],
   "source": [
    "#test train split\n",
    "def testTrainSplit(data):\n",
    "    length = len(df.index)\n",
    "    split = int(length*0.7)\n",
    "    train = data[0:split]\n",
    "    test = data[split+1:length]\n",
    "    return train, test\n",
    "train, test = testTrainSplit(df_min_max_scaled)"
   ]
  },
  {
   "cell_type": "code",
   "execution_count": 22,
   "id": "c18488f2",
   "metadata": {},
   "outputs": [
    {
     "data": {
      "image/png": "[encoded data removed]",
      "text/plain": [
       "<Figure size 640x480 with 1 Axes>"
      ]
     },
     "metadata": {},
     "output_type": "display_data"
    }
   ],
   "source": [
    "import sklearn\n",
    "from sklearn.cluster import KMeans\n",
    "ks=[]\n",
    "for i in range(1,50):\n",
    "    ks.append(i)\n",
    "train = train[['Age', 'Spending_Score','Gender','Family_Size']]\n",
    "wcss = []\n",
    "\n",
    "for i in range(1, 50):\n",
    "    clustering = KMeans(n_clusters=i, init='k-means++', random_state=42)\n",
    "    clustering.fit(train)\n",
    "    wcss.append(clustering.inertia_)\n",
    "sns.lineplot(x = ks, y = wcss);\n"
   ]
  },
  {
   "cell_type": "code",
   "execution_count": 12,
   "id": "c9416a16",
   "metadata": {},
   "outputs": [],
   "source": [
    "# sets k equal to 4\n",
    "K=4"
   ]
  },
  {
   "cell_type": "code",
   "execution_count": 15,
   "id": "23d54e5c",
   "metadata": {},
   "outputs": [],
   "source": [
    "#chooses 4 random values\n",
    "Centroids = (test.sample(n=K))"
   ]
  },
  {
   "cell_type": "code",
   "execution_count": 17,
   "id": "b6167202",
   "metadata": {
    "scrolled": true
   },
   "outputs": [
    {
     "name": "stderr",
     "output_type": "stream",
     "text": [
      "C:\\Users\\mjacobs7\\AppData\\Local\\Temp\\ipykernel_15584\\3144954264.py:18: SettingWithCopyWarning: \n",
      "A value is trying to be set on a copy of a slice from a DataFrame.\n",
      "Try using .loc[row_indexer,col_indexer] = value instead\n",
      "\n",
      "See the caveats in the documentation: https://pandas.pydata.org/pandas-docs/stable/user_guide/indexing.html#returning-a-view-versus-a-copy\n",
      "  test[i] = ED\n",
      "C:\\Users\\mjacobs7\\AppData\\Local\\Temp\\ipykernel_15584\\3144954264.py:18: SettingWithCopyWarning: \n",
      "A value is trying to be set on a copy of a slice from a DataFrame.\n",
      "Try using .loc[row_indexer,col_indexer] = value instead\n",
      "\n",
      "See the caveats in the documentation: https://pandas.pydata.org/pandas-docs/stable/user_guide/indexing.html#returning-a-view-versus-a-copy\n",
      "  test[i] = ED\n",
      "C:\\Users\\mjacobs7\\AppData\\Local\\Temp\\ipykernel_15584\\3144954264.py:18: SettingWithCopyWarning: \n",
      "A value is trying to be set on a copy of a slice from a DataFrame.\n",
      "Try using .loc[row_indexer,col_indexer] = value instead\n",
      "\n",
      "See the caveats in the documentation: https://pandas.pydata.org/pandas-docs/stable/user_guide/indexing.html#returning-a-view-versus-a-copy\n",
      "  test[i] = ED\n",
      "C:\\Users\\mjacobs7\\AppData\\Local\\Temp\\ipykernel_15584\\3144954264.py:18: SettingWithCopyWarning: \n",
      "A value is trying to be set on a copy of a slice from a DataFrame.\n",
      "Try using .loc[row_indexer,col_indexer] = value instead\n",
      "\n",
      "See the caveats in the documentation: https://pandas.pydata.org/pandas-docs/stable/user_guide/indexing.html#returning-a-view-versus-a-copy\n",
      "  test[i] = ED\n",
      "C:\\Users\\mjacobs7\\AppData\\Local\\Temp\\ipykernel_15584\\3144954264.py:30: SettingWithCopyWarning: \n",
      "A value is trying to be set on a copy of a slice from a DataFrame.\n",
      "Try using .loc[row_indexer,col_indexer] = value instead\n",
      "\n",
      "See the caveats in the documentation: https://pandas.pydata.org/pandas-docs/stable/user_guide/indexing.html#returning-a-view-versus-a-copy\n",
      "  test[\"Cluster\"]=C\n",
      "C:\\Users\\mjacobs7\\AppData\\Local\\Temp\\ipykernel_15584\\3144954264.py:18: SettingWithCopyWarning: \n",
      "A value is trying to be set on a copy of a slice from a DataFrame.\n",
      "Try using .loc[row_indexer,col_indexer] = value instead\n",
      "\n",
      "See the caveats in the documentation: https://pandas.pydata.org/pandas-docs/stable/user_guide/indexing.html#returning-a-view-versus-a-copy\n",
      "  test[i] = ED\n",
      "C:\\Users\\mjacobs7\\AppData\\Local\\Temp\\ipykernel_15584\\3144954264.py:30: SettingWithCopyWarning: \n",
      "A value is trying to be set on a copy of a slice from a DataFrame.\n",
      "Try using .loc[row_indexer,col_indexer] = value instead\n",
      "\n",
      "See the caveats in the documentation: https://pandas.pydata.org/pandas-docs/stable/user_guide/indexing.html#returning-a-view-versus-a-copy\n",
      "  test[\"Cluster\"]=C\n",
      "C:\\Users\\mjacobs7\\AppData\\Local\\Temp\\ipykernel_15584\\3144954264.py:18: SettingWithCopyWarning: \n",
      "A value is trying to be set on a copy of a slice from a DataFrame.\n",
      "Try using .loc[row_indexer,col_indexer] = value instead\n",
      "\n",
      "See the caveats in the documentation: https://pandas.pydata.org/pandas-docs/stable/user_guide/indexing.html#returning-a-view-versus-a-copy\n",
      "  test[i] = ED\n"
     ]
    },
    {
     "name": "stdout",
     "output_type": "stream",
     "text": [
      "-0.1994146686041282\n"
     ]
    },
    {
     "name": "stderr",
     "output_type": "stream",
     "text": [
      "C:\\Users\\mjacobs7\\AppData\\Local\\Temp\\ipykernel_15584\\3144954264.py:30: SettingWithCopyWarning: \n",
      "A value is trying to be set on a copy of a slice from a DataFrame.\n",
      "Try using .loc[row_indexer,col_indexer] = value instead\n",
      "\n",
      "See the caveats in the documentation: https://pandas.pydata.org/pandas-docs/stable/user_guide/indexing.html#returning-a-view-versus-a-copy\n",
      "  test[\"Cluster\"]=C\n",
      "C:\\Users\\mjacobs7\\AppData\\Local\\Temp\\ipykernel_15584\\3144954264.py:18: SettingWithCopyWarning: \n",
      "A value is trying to be set on a copy of a slice from a DataFrame.\n",
      "Try using .loc[row_indexer,col_indexer] = value instead\n",
      "\n",
      "See the caveats in the documentation: https://pandas.pydata.org/pandas-docs/stable/user_guide/indexing.html#returning-a-view-versus-a-copy\n",
      "  test[i] = ED\n"
     ]
    },
    {
     "name": "stdout",
     "output_type": "stream",
     "text": [
      "-0.007750083362699778\n"
     ]
    },
    {
     "name": "stderr",
     "output_type": "stream",
     "text": [
      "C:\\Users\\mjacobs7\\AppData\\Local\\Temp\\ipykernel_15584\\3144954264.py:30: SettingWithCopyWarning: \n",
      "A value is trying to be set on a copy of a slice from a DataFrame.\n",
      "Try using .loc[row_indexer,col_indexer] = value instead\n",
      "\n",
      "See the caveats in the documentation: https://pandas.pydata.org/pandas-docs/stable/user_guide/indexing.html#returning-a-view-versus-a-copy\n",
      "  test[\"Cluster\"]=C\n",
      "C:\\Users\\mjacobs7\\AppData\\Local\\Temp\\ipykernel_15584\\3144954264.py:18: SettingWithCopyWarning: \n",
      "A value is trying to be set on a copy of a slice from a DataFrame.\n",
      "Try using .loc[row_indexer,col_indexer] = value instead\n",
      "\n",
      "See the caveats in the documentation: https://pandas.pydata.org/pandas-docs/stable/user_guide/indexing.html#returning-a-view-versus-a-copy\n",
      "  test[i] = ED\n"
     ]
    },
    {
     "name": "stdout",
     "output_type": "stream",
     "text": [
      "-0.0009327331156036289\n"
     ]
    },
    {
     "name": "stderr",
     "output_type": "stream",
     "text": [
      "C:\\Users\\mjacobs7\\AppData\\Local\\Temp\\ipykernel_15584\\3144954264.py:30: SettingWithCopyWarning: \n",
      "A value is trying to be set on a copy of a slice from a DataFrame.\n",
      "Try using .loc[row_indexer,col_indexer] = value instead\n",
      "\n",
      "See the caveats in the documentation: https://pandas.pydata.org/pandas-docs/stable/user_guide/indexing.html#returning-a-view-versus-a-copy\n",
      "  test[\"Cluster\"]=C\n",
      "C:\\Users\\mjacobs7\\AppData\\Local\\Temp\\ipykernel_15584\\3144954264.py:18: SettingWithCopyWarning: \n",
      "A value is trying to be set on a copy of a slice from a DataFrame.\n",
      "Try using .loc[row_indexer,col_indexer] = value instead\n",
      "\n",
      "See the caveats in the documentation: https://pandas.pydata.org/pandas-docs/stable/user_guide/indexing.html#returning-a-view-versus-a-copy\n",
      "  test[i] = ED\n"
     ]
    },
    {
     "name": "stdout",
     "output_type": "stream",
     "text": [
      "0.0008547247249340029\n"
     ]
    },
    {
     "name": "stderr",
     "output_type": "stream",
     "text": [
      "C:\\Users\\mjacobs7\\AppData\\Local\\Temp\\ipykernel_15584\\3144954264.py:30: SettingWithCopyWarning: \n",
      "A value is trying to be set on a copy of a slice from a DataFrame.\n",
      "Try using .loc[row_indexer,col_indexer] = value instead\n",
      "\n",
      "See the caveats in the documentation: https://pandas.pydata.org/pandas-docs/stable/user_guide/indexing.html#returning-a-view-versus-a-copy\n",
      "  test[\"Cluster\"]=C\n",
      "C:\\Users\\mjacobs7\\AppData\\Local\\Temp\\ipykernel_15584\\3144954264.py:18: SettingWithCopyWarning: \n",
      "A value is trying to be set on a copy of a slice from a DataFrame.\n",
      "Try using .loc[row_indexer,col_indexer] = value instead\n",
      "\n",
      "See the caveats in the documentation: https://pandas.pydata.org/pandas-docs/stable/user_guide/indexing.html#returning-a-view-versus-a-copy\n",
      "  test[i] = ED\n"
     ]
    },
    {
     "name": "stdout",
     "output_type": "stream",
     "text": [
      "0.00080783823748036\n"
     ]
    },
    {
     "name": "stderr",
     "output_type": "stream",
     "text": [
      "C:\\Users\\mjacobs7\\AppData\\Local\\Temp\\ipykernel_15584\\3144954264.py:30: SettingWithCopyWarning: \n",
      "A value is trying to be set on a copy of a slice from a DataFrame.\n",
      "Try using .loc[row_indexer,col_indexer] = value instead\n",
      "\n",
      "See the caveats in the documentation: https://pandas.pydata.org/pandas-docs/stable/user_guide/indexing.html#returning-a-view-versus-a-copy\n",
      "  test[\"Cluster\"]=C\n",
      "C:\\Users\\mjacobs7\\AppData\\Local\\Temp\\ipykernel_15584\\3144954264.py:18: SettingWithCopyWarning: \n",
      "A value is trying to be set on a copy of a slice from a DataFrame.\n",
      "Try using .loc[row_indexer,col_indexer] = value instead\n",
      "\n",
      "See the caveats in the documentation: https://pandas.pydata.org/pandas-docs/stable/user_guide/indexing.html#returning-a-view-versus-a-copy\n",
      "  test[i] = ED\n"
     ]
    },
    {
     "name": "stdout",
     "output_type": "stream",
     "text": [
      "0.0008619309841923634\n"
     ]
    },
    {
     "name": "stderr",
     "output_type": "stream",
     "text": [
      "C:\\Users\\mjacobs7\\AppData\\Local\\Temp\\ipykernel_15584\\3144954264.py:30: SettingWithCopyWarning: \n",
      "A value is trying to be set on a copy of a slice from a DataFrame.\n",
      "Try using .loc[row_indexer,col_indexer] = value instead\n",
      "\n",
      "See the caveats in the documentation: https://pandas.pydata.org/pandas-docs/stable/user_guide/indexing.html#returning-a-view-versus-a-copy\n",
      "  test[\"Cluster\"]=C\n",
      "C:\\Users\\mjacobs7\\AppData\\Local\\Temp\\ipykernel_15584\\3144954264.py:18: SettingWithCopyWarning: \n",
      "A value is trying to be set on a copy of a slice from a DataFrame.\n",
      "Try using .loc[row_indexer,col_indexer] = value instead\n",
      "\n",
      "See the caveats in the documentation: https://pandas.pydata.org/pandas-docs/stable/user_guide/indexing.html#returning-a-view-versus-a-copy\n",
      "  test[i] = ED\n"
     ]
    },
    {
     "name": "stdout",
     "output_type": "stream",
     "text": [
      "0.0007827575004204085\n",
      "0.0\n"
     ]
    },
    {
     "name": "stderr",
     "output_type": "stream",
     "text": [
      "C:\\Users\\mjacobs7\\AppData\\Local\\Temp\\ipykernel_15584\\3144954264.py:30: SettingWithCopyWarning: \n",
      "A value is trying to be set on a copy of a slice from a DataFrame.\n",
      "Try using .loc[row_indexer,col_indexer] = value instead\n",
      "\n",
      "See the caveats in the documentation: https://pandas.pydata.org/pandas-docs/stable/user_guide/indexing.html#returning-a-view-versus-a-copy\n",
      "  test[\"Cluster\"]=C\n"
     ]
    }
   ],
   "source": [
    "#Euclidian distance \n",
    "diff = 1\n",
    "j=0\n",
    "\n",
    "while(diff!=0):\n",
    "    XD=test\n",
    "    i=1\n",
    "    #finding euclidian distance\n",
    "    for index1, row_c in Centroids.iterrows():\n",
    "        ED=[]\n",
    "        for index2, row_d in XD.iterrows():\n",
    "            d1 = (row_c[\"Gender\"]-row_d[\"Gender\"])**2\n",
    "            d2 = (row_c[\"Age\"]-row_d[\"Age\"])**2\n",
    "            d3 = (row_c[\"Spending_Score\"]-row_d[\"Spending_Score\"])**2\n",
    "            d4 = (row_c[\"Family_Size\"]-row_d[\"Family_Size\"])**2\n",
    "            d = sqrt(d1+d2+d3+d4)\n",
    "            ED.append(d)\n",
    "        test[i] = ED\n",
    "        i = i+1\n",
    "    \n",
    "    C = []\n",
    "    for index, row in test.iterrows():\n",
    "        min_dist=row[1]\n",
    "        pos=1\n",
    "        for i in range(K):\n",
    "            if row[i+1] < min_dist:\n",
    "                min_dist = row[i+1]\n",
    "                pos = i+1\n",
    "        C.append(pos)\n",
    "    test[\"Cluster\"]=C\n",
    "    Centroids_new = test.groupby([\"Cluster\"]).mean()[[\"Age\", \"Gender\",\"Spending_Score\",\"Family_Size\"]]\n",
    "    #code that resets the and does it again if it doesnt hit 0\n",
    "    if j == 0:\n",
    "        diff = 1\n",
    "        j = j+1\n",
    "    else:\n",
    "        #resets and does it again\n",
    "        diff = (Centroids_new['Age'] - Centroids['Age']).sum() + (Centroids_new['Gender'] - Centroids['Gender']).sum()+(Centroids_new['Spending_Score'] - Centroids['Spending_Score']).sum() + (Centroids_new['Family_Size'] - Centroids['Family_Size']).sum()\n",
    "        print(diff.sum())\n",
    "    Centroids = test.groupby([\"Cluster\"]).mean()[[\"Age\",\"Gender\",\"Spending_Score\",\"Family_Size\"]]"
   ]
  },
  {
   "cell_type": "code",
   "execution_count": null,
   "id": "3bc72a6b",
   "metadata": {},
   "outputs": [],
   "source": []
  },
  {
   "cell_type": "code",
   "execution_count": null,
   "id": "c9c9202f",
   "metadata": {},
   "outputs": [],
   "source": []
  }
 ],
 "metadata": {
  "kernelspec": {
   "display_name": "Python 3 (ipykernel)",
   "language": "python",
   "name": "python3"
  },
  "language_info": {
   "codemirror_mode": {
    "name": "ipython",
    "version": 3
   },
   "file_extension": ".py",
   "mimetype": "text/x-python",
   "name": "python",
   "nbconvert_exporter": "python",
   "pygments_lexer": "ipython3",
   "version": "3.9.13"
  }
 },
 "nbformat": 4,
 "nbformat_minor": 5
}
