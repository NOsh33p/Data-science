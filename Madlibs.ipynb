{
 "cells": [
  {
   "cell_type": "code",
   "execution_count": 2,
   "id": "76dc9ece",
   "metadata": {},
   "outputs": [
    {
     "name": "stdout",
     "output_type": "stream",
     "text": [
      "write a propernounm\n",
      "write a propernouns\n",
      "write a propernouns\n",
      "write a superlatives\n",
      "write a verbs\n",
      "write a adjectives\n",
      "write a nouns\n",
      "write a interjections\n",
      "write a place s\n",
      "write a adjectives\n",
      "write a pertentages\n",
      "write a verbs\n",
      "write a adjectives\n",
      "write a nouns\n",
      "write a propernouns\n",
      "write a verbs\n",
      " Welcome tomBargain Shack, where the price's are thesin the countryHere at s, we sto the competition ands to our customers and to our staff.if your looking to join our staffs than says and prepare yourself for the ride of your lives! Our health plan for on the job injury tos,thes hospital in the world, but your health plan will only coversof the costs and you don't get payed.you get payed 40.00every month and if youssomething, the cost of damages come out of your paycheck.we have as policy and if you catch a thief, call thes and give thesso he/she can bes and then file a report.\n"
     ]
    }
   ],
   "source": [
    "Propernoun1=input(\"write a propernoun: \")\n",
    "Propernoun= input(\"write a propernoun: \")\n",
    "Propernoun2=input(\"write a propernoun: \")\n",
    "superlative1 =input(\"write a superlative: \")\n",
    "\n",
    "Verb1 =input(\"write a verb: \")\n",
    "Adjective1=input(\"write a adjective: \")\n",
    "noun1 =input(\"write a noun: \")\n",
    "interjection1 =input(\"write a interjection: \")\n",
    "place1 = input(\"write a place: \")\n",
    "adjective2=input(\"write a adjective:\")\n",
    "pertentage=input(\"write a pertentage:\")\n",
    "\n",
    "verb2=input(\"write a verb:\")\n",
    "adjective3 =input(\"write a adjective:\")\n",
    "noun= input(\"write a noun:\")\n",
    "propernoun=input(\"write a propernoun:\")\n",
    "verb3=input(\"write a verb:\")\n",
    "\n",
    "print(\" Welcome to\" + Propernoun1 + \"Bargain Shack, where the price's are the\" + superlative1 +\"in the countryHere at \" + Propernoun2 + \", we \"+ Verb1 + \"to the competition and\" + Adjective1 +\" to our customers and to our staff.if your looking to join our staff\"+ noun1 + \" than say\"+interjection1+ \" and prepare yourself for the ride of your lives! Our health plan for on the job injury to\" +place1 +\",the\" + adjective2 +\" hospital in the world, but your health plan will only cover\"+pertentage+\"of the costs and you don't get payed.you get payed 40.00every month and if you\"+verb2+\"something, the cost of damages come out of your paycheck.we have a\"+adjective3+\" policy and if you catch a thief, call the\"+noun+\" and give the\"+propernoun+\"so he/she can be\"+verb3+\" and then file a report.\")\n"
   ]
  },
  {
   "cell_type": "code",
   "execution_count": null,
   "id": "0e5d200a",
   "metadata": {},
   "outputs": [],
   "source": []
  }
 ],
 "metadata": {
  "kernelspec": {
   "display_name": "Python 3 (ipykernel)",
   "language": "python",
   "name": "python3"
  },
  "language_info": {
   "codemirror_mode": {
    "name": "ipython",
    "version": 3
   },
   "file_extension": ".py",
   "mimetype": "text/x-python",
   "name": "python",
   "nbconvert_exporter": "python",
   "pygments_lexer": "ipython3",
   "version": "3.9.12"
  }
 },
 "nbformat": 4,
 "nbformat_minor": 5
}
