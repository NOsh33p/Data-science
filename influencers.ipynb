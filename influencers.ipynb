{
 "cells": [
  {
   "cell_type": "code",
   "execution_count": 3,
   "id": "9fb5389f",
   "metadata": {
    "scrolled": false
   },
   "outputs": [
    {
     "name": "stdout",
     "output_type": "stream",
     "text": [
      "     Rank           Channel Info  Influence Score Followers Avg. Likes Posts  \\\n",
      "0       1            \\ncristiano               92    485.2m       8.7m  3.4k   \n",
      "1       2            kyliejenner               91    370.7m       8.2m  7.0k   \n",
      "2       3             \\nleomessi               90    363.9m       6.7m   915   \n",
      "3       4          \\nselenagomez               93    348.8m       6.1m  1.9k   \n",
      "4       5              \\ntherock               91    339.4m       1.8m  6.8k   \n",
      "..    ...                    ...              ...       ...        ...   ...   \n",
      "195   196  \\nkhabib_nurmagomedov               63     33.6m     680.6k  4.6k   \n",
      "196   197         \\ndanbilzerian               84     33.6m       2.2m  1.4k   \n",
      "197   198            \\nraisa6690               80     33.6m     227.8k  4.2k   \n",
      "198   199          \\nluansantana               79     33.5m     193.3k   865   \n",
      "199   200           \\nnancyajram               81     33.4m     382.5k  3.8k   \n",
      "\n",
      "     60-Day Eng Rate New Post Avg. Likes Total Likes Country Or Region  \n",
      "0              0.013                6.3m       29.1b             Spain  \n",
      "1              0.014                5.0m       57.4b     United States  \n",
      "2              0.010                3.5m        6.1b               NaN  \n",
      "3              0.005                1.7m       11.4b     United States  \n",
      "4              0.003              932.0k       12.6b     United States  \n",
      "..               ...                 ...         ...               ...  \n",
      "195            0.009              305.7k        3.1b            Russia  \n",
      "196            0.064                2.1m        3.0b            Canada  \n",
      "197            0.003              103.2k      955.9m         Indonesia  \n",
      "198            0.003               82.6k      167.2m            Brazil  \n",
      "199            0.004              128.2k        1.5b            France  \n",
      "\n",
      "[200 rows x 10 columns]\n",
      "\n",
      "----------- Calculate Mean -----------\n",
      "\n",
      "177.09\n",
      "\n",
      "----------- Calculate Median -----------\n",
      "\n",
      "51.0\n",
      "\n",
      "----------- Calculate Mode -----------\n",
      "\n",
      "0    100.0\n",
      "Name: Posts, dtype: float64\n",
      "10.0\n",
      "992.0\n"
     ]
    },
    {
     "name": "stderr",
     "output_type": "stream",
     "text": [
      "C:\\Users\\mjacobs7\\AppData\\Local\\Temp\\ipykernel_16708\\2157667784.py:13: FutureWarning: The default value of regex will change from True to False in a future version.\n",
      "  df['Posts'] = df['Posts'].str.replace(r'\\D', '').astype(float)\n"
     ]
    },
    {
     "data": {
      "image/png": "[encoded data removed]",
      "text/plain": [
       "<Figure size 432x288 with 1 Axes>"
      ]
     },
     "metadata": {
      "needs_background": "light"
     },
     "output_type": "display_data"
    },
    {
     "name": "stdout",
     "output_type": "stream",
     "text": [
      "Pearsons correlation: -0.087\n"
     ]
    }
   ],
   "source": [
    "import pandas as pd \n",
    "import numpy as np\n",
    "import seaborn as sns\n",
    "import matplotlib.pyplot as plt\n",
    "from scipy.stats import pearsonr\n",
    "\n",
    "df = pd.read_csv('top_Influencers.csv')\n",
    "print(df)\n",
    "df.describe()\n",
    "df2 = df.drop(labels=[\"Rank\",\"Channel Info\",\"Followers\",\"Total Likes\",\"60-Day Eng Rate\",\"New Post Avg. Likes\",\"Avg. Likes\",\"Country Or Region\"], axis = 1)\n",
    "df2\n",
    "\n",
    "df['Posts'] = df['Posts'].str.replace(r'\\D', '').astype(float)\n",
    "print(\"\\n----------- Calculate Mean -----------\\n\")\n",
    "print(df['Posts'].mean())\n",
    "print(\"\\n----------- Calculate Median -----------\\n\")\n",
    "print(df['Posts'].median())\n",
    "print(\"\\n----------- Calculate Mode -----------\\n\")\n",
    "print(df['Posts'].mode())\n",
    "\n",
    "\n",
    "\n",
    "\n",
    "print(df['Posts'].min())\n",
    "print(df['Posts'].max())\n",
    "\n",
    "sns.regplot(x='Posts',y='Influence Score',data = df)\n",
    "plt.show()\n",
    "\n",
    "list1 =df['Posts']\n",
    "list2 = df['Influence Score']\n",
    "corr, _ = pearsonr(list1, list2)\n",
    "print('Pearsons correlation: %.3f' % corr)\n",
    "\n",
    "\n"
   ]
  },
  {
   "cell_type": "markdown",
   "id": "04850250",
   "metadata": {},
   "source": [
    "### df.info()"
   ]
  },
  {
   "cell_type": "code",
   "execution_count": 17,
   "id": "80a3d853",
   "metadata": {},
   "outputs": [
    {
     "data": {
      "text/html": [
       "<div>\n",
       "<style scoped>\n",
       "    .dataframe tbody tr th:only-of-type {\n",
       "        vertical-align: middle;\n",
       "    }\n",
       "\n",
       "    .dataframe tbody tr th {\n",
       "        vertical-align: top;\n",
       "    }\n",
       "\n",
       "    .dataframe thead th {\n",
       "        text-align: right;\n",
       "    }\n",
       "</style>\n",
       "<table border=\"1\" class=\"dataframe\">\n",
       "  <thead>\n",
       "    <tr style=\"text-align: right;\">\n",
       "      <th></th>\n",
       "      <th>Rank</th>\n",
       "      <th>Channel Info</th>\n",
       "      <th>Influence Score</th>\n",
       "      <th>Followers</th>\n",
       "      <th>Avg. Likes</th>\n",
       "      <th>Posts</th>\n",
       "      <th>60-Day Eng Rate</th>\n",
       "      <th>New Post Avg. Likes</th>\n",
       "      <th>Total Likes</th>\n",
       "      <th>Country Or Region</th>\n",
       "    </tr>\n",
       "  </thead>\n",
       "  <tbody>\n",
       "    <tr>\n",
       "      <th>0</th>\n",
       "      <td>1</td>\n",
       "      <td>\\ncristiano</td>\n",
       "      <td>92</td>\n",
       "      <td>485.2m</td>\n",
       "      <td>8.7m</td>\n",
       "      <td>3.4k</td>\n",
       "      <td>0.013</td>\n",
       "      <td>6.3m</td>\n",
       "      <td>29.1b</td>\n",
       "      <td>Spain</td>\n",
       "    </tr>\n",
       "    <tr>\n",
       "      <th>1</th>\n",
       "      <td>2</td>\n",
       "      <td>kyliejenner</td>\n",
       "      <td>91</td>\n",
       "      <td>370.7m</td>\n",
       "      <td>8.2m</td>\n",
       "      <td>7.0k</td>\n",
       "      <td>0.014</td>\n",
       "      <td>5.0m</td>\n",
       "      <td>57.4b</td>\n",
       "      <td>United States</td>\n",
       "    </tr>\n",
       "    <tr>\n",
       "      <th>2</th>\n",
       "      <td>3</td>\n",
       "      <td>\\nleomessi</td>\n",
       "      <td>90</td>\n",
       "      <td>363.9m</td>\n",
       "      <td>6.7m</td>\n",
       "      <td>915</td>\n",
       "      <td>0.010</td>\n",
       "      <td>3.5m</td>\n",
       "      <td>6.1b</td>\n",
       "      <td>NaN</td>\n",
       "    </tr>\n",
       "    <tr>\n",
       "      <th>3</th>\n",
       "      <td>4</td>\n",
       "      <td>\\nselenagomez</td>\n",
       "      <td>93</td>\n",
       "      <td>348.8m</td>\n",
       "      <td>6.1m</td>\n",
       "      <td>1.9k</td>\n",
       "      <td>0.005</td>\n",
       "      <td>1.7m</td>\n",
       "      <td>11.4b</td>\n",
       "      <td>United States</td>\n",
       "    </tr>\n",
       "    <tr>\n",
       "      <th>4</th>\n",
       "      <td>5</td>\n",
       "      <td>\\ntherock</td>\n",
       "      <td>91</td>\n",
       "      <td>339.4m</td>\n",
       "      <td>1.8m</td>\n",
       "      <td>6.8k</td>\n",
       "      <td>0.003</td>\n",
       "      <td>932.0k</td>\n",
       "      <td>12.6b</td>\n",
       "      <td>United States</td>\n",
       "    </tr>\n",
       "  </tbody>\n",
       "</table>\n",
       "</div>"
      ],
      "text/plain": [
       "   Rank   Channel Info  Influence Score Followers Avg. Likes Posts  \\\n",
       "0     1    \\ncristiano               92    485.2m       8.7m  3.4k   \n",
       "1     2    kyliejenner               91    370.7m       8.2m  7.0k   \n",
       "2     3     \\nleomessi               90    363.9m       6.7m   915   \n",
       "3     4  \\nselenagomez               93    348.8m       6.1m  1.9k   \n",
       "4     5      \\ntherock               91    339.4m       1.8m  6.8k   \n",
       "\n",
       "   60-Day Eng Rate New Post Avg. Likes Total Likes Country Or Region  \n",
       "0            0.013                6.3m       29.1b             Spain  \n",
       "1            0.014                5.0m       57.4b     United States  \n",
       "2            0.010                3.5m        6.1b               NaN  \n",
       "3            0.005                1.7m       11.4b     United States  \n",
       "4            0.003              932.0k       12.6b     United States  "
      ]
     },
     "execution_count": 17,
     "metadata": {},
     "output_type": "execute_result"
    }
   ],
   "source": [
    "df.head()"
   ]
  }
 ],
 "metadata": {
  "kernelspec": {
   "display_name": "Python 3 (ipykernel)",
   "language": "python",
   "name": "python3"
  },
  "language_info": {
   "codemirror_mode": {
    "name": "ipython",
    "version": 3
   },
   "file_extension": ".py",
   "mimetype": "text/x-python",
   "name": "python",
   "nbconvert_exporter": "python",
   "pygments_lexer": "ipython3",
   "version": "3.9.13"
  }
 },
 "nbformat": 4,
 "nbformat_minor": 5
}
